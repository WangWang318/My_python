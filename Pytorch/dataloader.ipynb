{
 "cells": [
  {
   "cell_type": "code",
   "execution_count": 8,
   "metadata": {},
   "outputs": [],
   "source": [
    "import torchvision\n",
    "from torch.utils.data import DataLoader\n",
    "from torch.utils.tensorboard import SummaryWriter\n",
    "test_data = torchvision.datasets.CIFAR10(\"./dataset\",train=False, transform=torchvision.transforms.ToTensor())\n",
    "test_loader = DataLoader(dataset=test_data, batch_size=64, shuffle=True, num_workers=0, drop_last=False)\n"
   ]
  },
  {
   "cell_type": "code",
   "execution_count": 10,
   "metadata": {},
   "outputs": [
    {
     "name": "stdout",
     "output_type": "stream",
     "text": [
      "torch.Size([3, 32, 32])\n",
      "3\n"
     ]
    }
   ],
   "source": [
    "# 测试数据集中第一张图片\n",
    "image, target = test_data[0]\n",
    "print(image.shape)\n",
    "print(target)\n",
    "\n",
    "writer = SummaryWriter(\"dataloader\")\n",
    "step = 0\n",
    "\n",
    "for data in test_loader:\n",
    "    images, targets = data\n",
    "    # print(images.shape)\n",
    "    # print(targets)\n",
    "    writer.add_images(\"test_data\", images, step) # 注意是images\n",
    "    step += 1\n",
    "writer.close()"
   ]
  },
  {
   "cell_type": "code",
   "execution_count": 11,
   "metadata": {},
   "outputs": [],
   "source": [
    "import torchvision\n",
    "from torch.utils.data import DataLoader\n",
    "from torch.utils.tensorboard import SummaryWriter\n",
    "test_data = torchvision.datasets.CIFAR10(\"./dataset\",train=False, transform=torchvision.transforms.ToTensor())\n",
    "test_loader = DataLoader(dataset=test_data, batch_size=64, shuffle=False, num_workers=0, drop_last=False)\n",
    "\n",
    "writer = SummaryWriter(\"dataloader_2\")\n",
    "for epoch in range(2):\n",
    "    step = 0\n",
    "    for data in test_loader:\n",
    "        images, targets = data\n",
    "        writer.add_images(\"Epoch:{}\".format(epoch), images, step)\n",
    "        step += 1\n",
    "\n",
    "writer.close()"
   ]
  }
 ],
 "metadata": {
  "kernelspec": {
   "display_name": "Python 3.8.16 ('RL')",
   "language": "python",
   "name": "python3"
  },
  "language_info": {
   "codemirror_mode": {
    "name": "ipython",
    "version": 3
   },
   "file_extension": ".py",
   "mimetype": "text/x-python",
   "name": "python",
   "nbconvert_exporter": "python",
   "pygments_lexer": "ipython3",
   "version": "3.8.16"
  },
  "orig_nbformat": 4,
  "vscode": {
   "interpreter": {
    "hash": "17680b14d7d9a3bae9c4871fddb2c879681776f38d67c6256fcb9de429c7e820"
   }
  }
 },
 "nbformat": 4,
 "nbformat_minor": 2
}
