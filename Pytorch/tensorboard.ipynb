{
 "cells": [
  {
   "cell_type": "code",
   "execution_count": 1,
   "metadata": {},
   "outputs": [],
   "source": [
    "from torch.utils.tensorboard import SummaryWriter"
   ]
  },
  {
   "cell_type": "code",
   "execution_count": 2,
   "metadata": {},
   "outputs": [],
   "source": [
    "writer = SummaryWriter(\"logs\")\n",
    "\n",
    "#writer.add_image()\n",
    "# y = x\n",
    "for i in range(100):\n",
    "    writer.add_scalar(\"y = 2x\", 2*i, i)\n",
    "\n",
    "writer.close()"
   ]
  },
  {
   "cell_type": "code",
   "execution_count": 5,
   "metadata": {},
   "outputs": [
    {
     "name": "stdout",
     "output_type": "stream",
     "text": [
      "^C\n"
     ]
    }
   ],
   "source": [
    "# tensorboard --logdir=logs  # logdir=事件文件所在文件夹名\n",
    "# ctrl + ~打开终端\n",
    "# 更换端口\n",
    "# !tensorboard --logdir=logs --port=6007"
   ]
  },
  {
   "cell_type": "code",
   "execution_count": 4,
   "metadata": {},
   "outputs": [
    {
     "name": "stdout",
     "output_type": "stream",
     "text": [
      "<class 'PIL.JpegImagePlugin.JpegImageFile'>\n"
     ]
    }
   ],
   "source": [
    "image_path = \"D:\\My_Python\\Pytorch\\hymenoptera_data\\\\train\\\\ants\\\\0013035.jpg\"\n",
    "from PIL import Image\n",
    "image = Image.open(image_path)\n",
    "print(type(image))\n",
    "#writer.add_image()"
   ]
  },
  {
   "cell_type": "code",
   "execution_count": 5,
   "metadata": {},
   "outputs": [],
   "source": [
    "# 利用opencv读数据\n",
    "import numpy as np\n",
    "img_array = np.array(image)"
   ]
  },
  {
   "cell_type": "code",
   "execution_count": 7,
   "metadata": {},
   "outputs": [
    {
     "name": "stdout",
     "output_type": "stream",
     "text": [
      "<class 'numpy.ndarray'>\n"
     ]
    }
   ],
   "source": [
    "print(type(img_array))"
   ]
  },
  {
   "cell_type": "code",
   "execution_count": 14,
   "metadata": {},
   "outputs": [
    {
     "name": "stdout",
     "output_type": "stream",
     "text": [
      "<class 'numpy.ndarray'>\n",
      "(375, 500, 3)\n"
     ]
    }
   ],
   "source": [
    "from torch.utils.tensorboard import SummaryWriter\n",
    "import numpy as np\n",
    "from PIL import Image\n",
    "\n",
    "writer = SummaryWriter(\"logs\")\n",
    "image_path = \"D:\\My_Python\\Pytorch\\hymenoptera_data\\\\train\\\\ants\\\\5650366_e22b7e1065.jpg\"\n",
    "image_PIL = Image.open(image_path)\n",
    "image_array = np.array(image_PIL)\n",
    "\n",
    "print(type(image_array))\n",
    "print(image_array.shape)\n",
    "writer.add_image(\"test\", image_array, 1, dataformats='HWC')"
   ]
  },
  {
   "cell_type": "code",
   "execution_count": null,
   "metadata": {},
   "outputs": [],
   "source": []
  }
 ],
 "metadata": {
  "kernelspec": {
   "display_name": "Python 3.8.16 ('RL')",
   "language": "python",
   "name": "python3"
  },
  "language_info": {
   "codemirror_mode": {
    "name": "ipython",
    "version": 3
   },
   "file_extension": ".py",
   "mimetype": "text/x-python",
   "name": "python",
   "nbconvert_exporter": "python",
   "pygments_lexer": "ipython3",
   "version": "3.8.16"
  },
  "orig_nbformat": 4,
  "vscode": {
   "interpreter": {
    "hash": "17680b14d7d9a3bae9c4871fddb2c879681776f38d67c6256fcb9de429c7e820"
   }
  }
 },
 "nbformat": 4,
 "nbformat_minor": 2
}
