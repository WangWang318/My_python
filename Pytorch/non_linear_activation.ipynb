{
 "cells": [
  {
   "cell_type": "code",
   "execution_count": 3,
   "metadata": {},
   "outputs": [
    {
     "name": "stdout",
     "output_type": "stream",
     "text": [
      "torch.Size([1, 1, 2, 2])\n"
     ]
    }
   ],
   "source": [
    "import torch\n",
    "\n",
    "input = torch.tensor([[1, -0.5], [-1, 3]])\n",
    "\n",
    "output = torch.reshape(input, (-1, 1, 2,2))\n",
    "\n",
    "print(output.shape)\n"
   ]
  },
  {
   "cell_type": "code",
   "execution_count": 10,
   "metadata": {},
   "outputs": [
    {
     "name": "stdout",
     "output_type": "stream",
     "text": [
      "tensor([[[[1., 0.],\n",
      "          [0., 3.]]]])\n"
     ]
    }
   ],
   "source": [
    "from torch import nn\n",
    "class MyNet(nn.Module):\n",
    "    def __init__(self):\n",
    "        super().__init__()\n",
    "        self.relu1 = nn.ReLU()\n",
    "    def forward(self, input):\n",
    "        output = self.relu1(input)\n",
    "        return output\n",
    "\n",
    "input = torch.tensor([[1, -0.5], [-1, 3]])\n",
    "input = torch.reshape(input, (-1, 1, 2,2))\n",
    "net = MyNet()\n",
    "\n",
    "output = net(input)\n",
    "print(output)"
   ]
  },
  {
   "cell_type": "code",
   "execution_count": 2,
   "metadata": {},
   "outputs": [],
   "source": [
    "# sigmoid\n",
    "import torch\n",
    "import torchvision\n",
    "from torch import nn\n",
    "from torch.utils.data import DataLoader\n",
    "from torch.utils.tensorboard import SummaryWriter\n",
    "\n",
    "dataset = torchvision.datasets.CIFAR10(\"./dataset\",train=False,transform=torchvision.transforms.ToTensor())\n",
    "dataloader = DataLoader(dataset, batch_size=64)\n",
    "\n",
    "class MyNet(nn.Module):\n",
    "    def __init__(self):\n",
    "        super().__init__()\n",
    "        self.sigmoid1 = nn.Sigmoid()\n",
    "\n",
    "    def forward(self, x):\n",
    "        output = self.sigmoid1(x)\n",
    "        return output\n",
    "\n",
    "net = MyNet()\n",
    "\n",
    "writer = SummaryWriter(\"Sigmoid\")\n",
    "step = 0\n",
    "\n",
    "for data in dataloader:\n",
    "    images, targets = data\n",
    "    writer.add_images(\"input_sigmoid\", images, step)\n",
    "    output = net(images)\n",
    "    writer.add_images(\"output_sigmoid\", output, step)\n",
    "    step += 1\n"
   ]
  }
 ],
 "metadata": {
  "kernelspec": {
   "display_name": "Python 3.8.16 ('RL')",
   "language": "python",
   "name": "python3"
  },
  "language_info": {
   "codemirror_mode": {
    "name": "ipython",
    "version": 3
   },
   "file_extension": ".py",
   "mimetype": "text/x-python",
   "name": "python",
   "nbconvert_exporter": "python",
   "pygments_lexer": "ipython3",
   "version": "3.8.16"
  },
  "orig_nbformat": 4,
  "vscode": {
   "interpreter": {
    "hash": "17680b14d7d9a3bae9c4871fddb2c879681776f38d67c6256fcb9de429c7e820"
   }
  }
 },
 "nbformat": 4,
 "nbformat_minor": 2
}
