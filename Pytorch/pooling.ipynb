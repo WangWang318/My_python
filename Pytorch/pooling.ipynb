{
 "cells": [
  {
   "cell_type": "code",
   "execution_count": 6,
   "metadata": {},
   "outputs": [
    {
     "name": "stdout",
     "output_type": "stream",
     "text": [
      "tensor([[[[2., 3.],\n",
      "          [5., 1.]]]])\n",
      "tensor([[[[2.]]]])\n"
     ]
    }
   ],
   "source": [
    "import torch\n",
    "from torch import nn\n",
    "\n",
    "input = torch.tensor([[1.0,2,0,3,1],\n",
    "                      [0,1,2,3,1],\n",
    "                      [1,2,1,0,0],\n",
    "                      [5,2,3,1,1],\n",
    "                      [2,1,0,1,1]\n",
    "                      ])\n",
    "input = torch.reshape(input, (1,1,5,5))\n",
    "\n",
    "class MyNet(nn.Module):\n",
    "    def __init__(self):\n",
    "        super().__init__()\n",
    "        self.maxpool1 = nn.MaxPool2d(kernel_size=3, ceil_mode=True)\n",
    "\n",
    "    def forward(self, input):\n",
    "        out = self.maxpool1(input)\n",
    "        return out\n",
    "\n",
    "class MyNet2(nn.Module):\n",
    "    def __init__(self):\n",
    "        super().__init__()\n",
    "        self.maxpool1 = nn.MaxPool2d(kernel_size=3, ceil_mode=False)\n",
    "\n",
    "    def forward(self, input):\n",
    "        out = self.maxpool1(input)\n",
    "        return out\n",
    "\n",
    "net = MyNet()\n",
    "net2 = MyNet2()\n",
    "output = net(input)\n",
    "output2 = net2(input)\n",
    "print(output)\n",
    "print(output2)"
   ]
  },
  {
   "cell_type": "code",
   "execution_count": 12,
   "metadata": {},
   "outputs": [
    {
     "name": "stdout",
     "output_type": "stream",
     "text": [
      "Files already downloaded and verified\n"
     ]
    }
   ],
   "source": [
    "import torchvision\n",
    "from torch.utils.data import DataLoader\n",
    "from torch.utils.tensorboard import SummaryWriter\n",
    "\n",
    "dataset = torchvision.datasets.CIFAR10(\".\\dataset\",train=False,download=True,transform=torchvision.transforms.ToTensor())\n",
    "dataloader = DataLoader(dataset,batch_size=64)\n",
    "\n",
    "writer = SummaryWriter(\"Pooling\")\n",
    "step = 0\n",
    "for data in dataloader:\n",
    "    images, targets = data\n",
    "    writer.add_images(\"input3\", images, step)\n",
    "    output = net(images)\n",
    "    writer.add_images(\"output3\", output, step)\n",
    "    step += 1\n",
    "    "
   ]
  }
 ],
 "metadata": {
  "kernelspec": {
   "display_name": "Python 3.8.16 ('RL')",
   "language": "python",
   "name": "python3"
  },
  "language_info": {
   "codemirror_mode": {
    "name": "ipython",
    "version": 3
   },
   "file_extension": ".py",
   "mimetype": "text/x-python",
   "name": "python",
   "nbconvert_exporter": "python",
   "pygments_lexer": "ipython3",
   "version": "3.8.16"
  },
  "orig_nbformat": 4,
  "vscode": {
   "interpreter": {
    "hash": "17680b14d7d9a3bae9c4871fddb2c879681776f38d67c6256fcb9de429c7e820"
   }
  }
 },
 "nbformat": 4,
 "nbformat_minor": 2
}
