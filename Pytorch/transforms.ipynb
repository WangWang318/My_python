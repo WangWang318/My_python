{
 "cells": [
  {
   "cell_type": "code",
   "execution_count": 1,
   "metadata": {},
   "outputs": [],
   "source": [
    "# transforms\n",
    "from torchvision import transforms"
   ]
  },
  {
   "cell_type": "code",
   "execution_count": 2,
   "metadata": {},
   "outputs": [
    {
     "name": "stdout",
     "output_type": "stream",
     "text": [
      "<PIL.JpegImagePlugin.JpegImageFile image mode=RGB size=768x512 at 0x2C8BD7286D0>\n",
      "<class 'numpy.ndarray'>\n",
      "(512, 768, 3)\n",
      "torch.Size([3, 512, 768])\n"
     ]
    }
   ],
   "source": [
    "# tensor数据类型\n",
    "# 通过transform.ToTensor去解决两个问题\n",
    "# 1. transform如何使用\n",
    "# 2. Tensor数据类型与其它数据类型的区别\n",
    "from PIL import Image\n",
    "import numpy as np\n",
    "image_path = \"D:\\My_Python\\Pytorch\\hymenoptera_data\\\\train\\\\ants\\\\0013035.jpg\"\n",
    "image = Image.open(image_path)\n",
    "print(image)\n",
    "image_array = np.array(image)\n",
    "print(type(image_array))\n",
    "print(image_array.shape)\n",
    "\n",
    "# 把ToTensor这个类实例化\n",
    "tensor_trans = transforms.ToTensor()\n",
    "tensor_image = tensor_trans(image)\n",
    "print(tensor_image.shape)"
   ]
  },
  {
   "cell_type": "code",
   "execution_count": 13,
   "metadata": {},
   "outputs": [
    {
     "name": "stdout",
     "output_type": "stream",
     "text": [
      "Looking in indexes: https://pypi.tuna.tsinghua.edu.cn/simple\n",
      "Requirement already satisfied: opencv-python in c:\\programdata\\anaconda3\\envs\\d2l\\lib\\site-packages (4.8.0.74)\n",
      "Requirement already satisfied: numpy>=1.17.0 in c:\\programdata\\anaconda3\\envs\\d2l\\lib\\site-packages (from opencv-python) (1.21.5)\n"
     ]
    },
    {
     "name": "stderr",
     "output_type": "stream",
     "text": [
      "\n",
      "[notice] A new release of pip is available: 23.1.2 -> 23.2.1\n",
      "[notice] To update, run: python.exe -m pip install --upgrade pip\n"
     ]
    }
   ],
   "source": [
    "# !pip install opencv-python"
   ]
  },
  {
   "cell_type": "code",
   "execution_count": 3,
   "metadata": {},
   "outputs": [],
   "source": [
    "import cv2\n",
    "from torch.utils.tensorboard import SummaryWriter\n",
    "image = Image.open(image_path)\n",
    "writer = SummaryWriter(\"logs\")\n",
    "\n",
    "writer.add_image(\"Tensor_image\", tensor_image)"
   ]
  },
  {
   "cell_type": "code",
   "execution_count": 5,
   "metadata": {},
   "outputs": [
    {
     "name": "stdout",
     "output_type": "stream",
     "text": [
      "<PIL.JpegImagePlugin.JpegImageFile image mode=RGB size=768x512 at 0x2C8D6EE61C0>\n"
     ]
    }
   ],
   "source": [
    "from PIL import Image\n",
    "\n",
    "writer = SummaryWriter(\"logs\")\n",
    "image = Image.open(image_path)\n",
    "print(image)\n",
    "\n",
    "trans_totensor = transforms.ToTensor()\n",
    "image_tensor = trans_totensor(image)\n",
    "writer.add_image(\"ToTensor\", image_tensor)\n",
    "\n",
    "writer.close()"
   ]
  },
  {
   "cell_type": "code",
   "execution_count": 11,
   "metadata": {},
   "outputs": [
    {
     "name": "stdout",
     "output_type": "stream",
     "text": [
      "tensor(-1.7451)\n",
      "tensor(-4.4902)\n"
     ]
    }
   ],
   "source": [
    "# normalize\n",
    "print(image_tensor[0][0][0])\n",
    "trans_norm = transforms.Normalize([0.5, 0.5, 0.5], [0.5, 0.5, 0.5])\n",
    "image_norm = trans_norm(image_tensor)\n",
    "print(image_norm[0][0][0])\n",
    "writer.add_image(\"Normalize\", image_norm)\n",
    "writer.close()"
   ]
  },
  {
   "cell_type": "code",
   "execution_count": 19,
   "metadata": {},
   "outputs": [
    {
     "name": "stdout",
     "output_type": "stream",
     "text": [
      "(768, 512)\n"
     ]
    }
   ],
   "source": [
    "# resize()\n",
    "print(image.size)\n",
    "trans_resize = transforms.Resize((512,512))\n",
    "# image PIL -> PIL\n",
    "image_resize = trans_resize(image_tensor)\n",
    "# PIL -> tensor\n",
    "# image_resize = trans_totensor(image_resize)\n",
    "# print(image_resize)\n",
    "writer.add_image(\"Resize_2\", image_resize, 0)"
   ]
  },
  {
   "cell_type": "code",
   "execution_count": 20,
   "metadata": {},
   "outputs": [],
   "source": [
    "# Compose resize \n",
    "trans_resize_2 = transforms.Resize(512)\n",
    "# Compose([transforms参数1, transforms参数2,])\n",
    "trans_compose = transforms.Compose([trans_resize_2, trans_totensor])\n",
    "image_resize_2 = trans_compose(image)\n",
    "writer.add_image(\"Resize_2\", image_resize_2,1)\n",
    "writer.close()\n"
   ]
  },
  {
   "cell_type": "code",
   "execution_count": 24,
   "metadata": {},
   "outputs": [],
   "source": [
    "# RandomCrop\n",
    "trans_crop = transforms.RandomCrop((128,256))\n",
    "for i in range(10):\n",
    "    image_crop = trans_crop(image_tensor)\n",
    "    writer.add_image(\"Crop_3\", image_crop, i)\n",
    "writer.close()"
   ]
  },
  {
   "cell_type": "code",
   "execution_count": null,
   "metadata": {},
   "outputs": [],
   "source": []
  }
 ],
 "metadata": {
  "kernelspec": {
   "display_name": "Python 3.8.16 ('RL')",
   "language": "python",
   "name": "python3"
  },
  "language_info": {
   "codemirror_mode": {
    "name": "ipython",
    "version": 3
   },
   "file_extension": ".py",
   "mimetype": "text/x-python",
   "name": "python",
   "nbconvert_exporter": "python",
   "pygments_lexer": "ipython3",
   "version": "3.8.16"
  },
  "orig_nbformat": 4,
  "vscode": {
   "interpreter": {
    "hash": "17680b14d7d9a3bae9c4871fddb2c879681776f38d67c6256fcb9de429c7e820"
   }
  }
 },
 "nbformat": 4,
 "nbformat_minor": 2
}
