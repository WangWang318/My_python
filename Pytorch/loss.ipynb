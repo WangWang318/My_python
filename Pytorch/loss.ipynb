{
 "cells": [
  {
   "cell_type": "code",
   "execution_count": 4,
   "metadata": {},
   "outputs": [
    {
     "name": "stdout",
     "output_type": "stream",
     "text": [
      "tensor(1.)\n",
      "tensor(0.3333)\n"
     ]
    }
   ],
   "source": [
    "import torch\n",
    "from torch import nn\n",
    "\n",
    "inputs = torch.tensor([1.0,2,3])\n",
    "targets = torch.tensor([1.0,2,4])\n",
    "\n",
    "inputs = torch.reshape(inputs, (1,1,1,3))\n",
    "targets = torch.reshape(targets, (1,1,1,3))\n",
    "\n",
    "loss = nn.L1Loss(reduction=\"sum\")\n",
    "result = loss(inputs, targets)\n",
    "\n",
    "loss_mse = nn.MSELoss()\n",
    "result_mse = loss_mse(inputs, targets)\n",
    "\n",
    "print(result)\n",
    "print(result_mse)"
   ]
  },
  {
   "cell_type": "markdown",
   "metadata": {},
   "source": [
    "![jpg](.\\img\\crossEntropy.jpg)"
   ]
  },
  {
   "cell_type": "code",
   "execution_count": 10,
   "metadata": {},
   "outputs": [
    {
     "name": "stdout",
     "output_type": "stream",
     "text": [
      "tensor([[0.1000, 0.2000, 0.3000]])\n",
      "tensor(1.1019)\n"
     ]
    }
   ],
   "source": [
    "x = torch.tensor([0.1, 0.2, 0.3])\n",
    "y = torch.tensor([1])\n",
    "x = torch.reshape(x,(1,3))\n",
    "print(x)\n",
    "loss_cross = nn.CrossEntropyLoss()\n",
    "result_cross = loss_cross(x, y)\n",
    "print(result_cross)"
   ]
  },
  {
   "cell_type": "code",
   "execution_count": 11,
   "metadata": {},
   "outputs": [
    {
     "name": "stdout",
     "output_type": "stream",
     "text": [
      "tensor(1.1019)\n"
     ]
    }
   ],
   "source": [
    "x = torch.tensor([0.1, 0.2, 0.3])\n",
    "y = torch.tensor(1)\n",
    "#x = torch.reshape(x,(1,3))\n",
    "#print(x)\n",
    "loss_cross = nn.CrossEntropyLoss()\n",
    "result_cross = loss_cross(x, y)\n",
    "print(result_cross)"
   ]
  },
  {
   "cell_type": "code",
   "execution_count": 25,
   "metadata": {},
   "outputs": [
    {
     "name": "stdout",
     "output_type": "stream",
     "text": [
      "tensor(3.7111)\n"
     ]
    }
   ],
   "source": [
    "x = torch.tensor([[0.1, 0.2, 0.3],\n",
    "                    [0.1, 0.3, 0.3], \n",
    "                    [0.1, 0.4, 0.3]])\n",
    "y = torch.tensor([0,0,0])\n",
    "#x = torch.reshape(x,(1,3))\n",
    "loss_cross = nn.CrossEntropyLoss(reduction=\"sum\")\n",
    "result_cross = loss_cross(x, y)\n",
    "print(result_cross)"
   ]
  },
  {
   "cell_type": "code",
   "execution_count": 1,
   "metadata": {},
   "outputs": [
    {
     "name": "stderr",
     "output_type": "stream",
     "text": [
      "Traceback (most recent call last):\n",
      "  File \"c:\\ProgramData\\Anaconda3\\envs\\RL\\lib\\site-packages\\debugpy\\_vendored\\pydevd\\_pydevd_bundle\\pydevd_vars.py\", line 478, in change_attr_expression\n",
      "    value = eval(expression, frame.f_globals, frame.f_locals)\n",
      "  File \"<string>\", line 1\n",
      "    MyNet(  (model1): Sequential(    (0): Conv2d(3, 32, kernel_size=(5, 5), stride=(1, 1), padding=(2, 2))    (1): MaxPool2d(kernel_size=2, stride=2, padding=0, dilation=1, ceil_mode=False)    (2): Conv2d(32, 32, kernel_size=(5, 5), stride=(1, 1), padding=(2, 2))    (3): MaxPool2d(kernel_size=2, stride=2, padding=0, dilation=1, ceil_mode=False)    (4): Conv2d(32, 64, kernel_size=(5, 5), stride=(1, 1), padding=(2, 2))    (5): MaxPool2d(kernel_size=2, stride=2, padding=0, dilation=1, ceil_mode=False)    (6): Flatten(start_dim=1, end_dim=-1)    (7): Linear(in_features=1024, out_features=64, bias=True)    (8): Linear(in_features=64, out_features=10, bias=True)  ))\n",
      "                    ^\n",
      "SyntaxError: invalid syntax\n"
     ]
    },
    {
     "name": "stdout",
     "output_type": "stream",
     "text": [
      "tensor(2.2840, grad_fn=<NllLossBackward0>)\n"
     ]
    }
   ],
   "source": [
    "from torch import nn\n",
    "from torch.utils.data import DataLoader\n",
    "import torchvision\n",
    "import torch\n",
    "\n",
    "dataset = torchvision.datasets.CIFAR10(\"./dataset\", train=False, transform=torchvision.transforms.ToTensor())\n",
    "dataloader = DataLoader(dataset, batch_size=1)\n",
    "\n",
    "class MyNet(nn.Module):\n",
    "    def __init__(self):\n",
    "        super().__init__()\n",
    "        self.model1 = nn.Sequential(\n",
    "            nn.Conv2d(3, 32, 5, padding=2),\n",
    "            nn.MaxPool2d(2),\n",
    "            nn.Conv2d(32, 32, 5, padding=2),\n",
    "            nn.MaxPool2d(2),\n",
    "            nn.Conv2d(32, 64, 5, padding=2),\n",
    "            nn.MaxPool2d(2),\n",
    "            nn.Flatten(),\n",
    "            nn.Linear(1024, 64),\n",
    "            nn.Linear(64, 10)\n",
    "        )\n",
    "        \n",
    "\n",
    "    def forward(self, x):\n",
    "        x = self.model1(x)\n",
    "        return x\n",
    "\n",
    "net = MyNet()\n",
    "loss = nn.CrossEntropyLoss()\n",
    "\n",
    "step = 0\n",
    "for data in dataloader:\n",
    "    images, targets = data\n",
    "    output = net(images)\n",
    "    result_loss = loss(output, targets)\n",
    "    result_loss.backward()\n",
    "    #print(result_loss)"
   ]
  },
  {
   "cell_type": "code",
   "execution_count": null,
   "metadata": {},
   "outputs": [],
   "source": []
  }
 ],
 "metadata": {
  "kernelspec": {
   "display_name": "Python 3.8.16 ('RL')",
   "language": "python",
   "name": "python3"
  },
  "language_info": {
   "codemirror_mode": {
    "name": "ipython",
    "version": 3
   },
   "file_extension": ".py",
   "mimetype": "text/x-python",
   "name": "python",
   "nbconvert_exporter": "python",
   "pygments_lexer": "ipython3",
   "version": "3.8.16"
  },
  "orig_nbformat": 4,
  "vscode": {
   "interpreter": {
    "hash": "17680b14d7d9a3bae9c4871fddb2c879681776f38d67c6256fcb9de429c7e820"
   }
  }
 },
 "nbformat": 4,
 "nbformat_minor": 2
}
