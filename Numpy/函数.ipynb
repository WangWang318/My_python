{
 "cells": [
  {
   "cell_type": "markdown",
   "metadata": {},
   "source": [
    "# 字符串函数"
   ]
  },
  {
   "cell_type": "code",
   "execution_count": 1,
   "metadata": {},
   "outputs": [
    {
     "name": "stdout",
     "output_type": "stream",
     "text": [
      "['helloabc' 'hixyz']\n"
     ]
    }
   ],
   "source": [
    "# add\n",
    "import numpy as np\n",
    "print(np.char.add(['hello', 'hi'],[' abc', ' xyz']))"
   ]
  },
  {
   "cell_type": "code",
   "execution_count": 2,
   "metadata": {},
   "outputs": [
    {
     "name": "stdout",
     "output_type": "stream",
     "text": [
      "RunoobRunoobRunoob\n"
     ]
    }
   ],
   "source": [
    "# multiply\n",
    "print(np.char.multiply('Runoob ', 3))"
   ]
  },
  {
   "cell_type": "code",
   "execution_count": 3,
   "metadata": {},
   "outputs": [
    {
     "name": "stdout",
     "output_type": "stream",
     "text": [
      "*******Runoob*******\n"
     ]
    }
   ],
   "source": [
    "# center\n",
    "print(np.char.center('Runoob', 20, fillchar='*'))"
   ]
  },
  {
   "cell_type": "code",
   "execution_count": 4,
   "metadata": {},
   "outputs": [
    {
     "name": "stdout",
     "output_type": "stream",
     "text": [
      "Runoob\n"
     ]
    }
   ],
   "source": [
    "# capitalize\n",
    "print(np.char.capitalize('runoob'))"
   ]
  },
  {
   "cell_type": "code",
   "execution_count": 5,
   "metadata": {},
   "outputs": [
    {
     "name": "stdout",
     "output_type": "stream",
     "text": [
      "I Like Runoob\n"
     ]
    }
   ],
   "source": [
    "# title\n",
    "print(np.char.title('i like runoob'))"
   ]
  },
  {
   "cell_type": "code",
   "execution_count": 6,
   "metadata": {},
   "outputs": [
    {
     "name": "stdout",
     "output_type": "stream",
     "text": [
      "['runoob' 'google']\n",
      "RUNOOB\n"
     ]
    }
   ],
   "source": [
    "print(np.char.lower(['Runoob','Google']))\n",
    "print(np.char.upper('Runoob'))"
   ]
  },
  {
   "cell_type": "code",
   "execution_count": 8,
   "metadata": {},
   "outputs": [
    {
     "name": "stdout",
     "output_type": "stream",
     "text": [
      "['i', 'like', 'runoob?']\n",
      "['www', 'runoob', 'com']\n",
      "['i', 'like runoob']\n"
     ]
    }
   ],
   "source": [
    "print(np.char.split(\"i like runoob?\"))\n",
    "print(np.char.split('www.runoob.com',sep='.'))\n",
    "print(np.char.splitlines(\"i\\nlike runoob\"))"
   ]
  },
  {
   "cell_type": "code",
   "execution_count": 9,
   "metadata": {},
   "outputs": [
    {
     "name": "stdout",
     "output_type": "stream",
     "text": [
      "shok arunoob\n",
      "['runoob' 'dmin' 'jav']\n"
     ]
    }
   ],
   "source": [
    "# strip 用于移除开头或结尾处的特定字符\n",
    "print(np.char.strip('ashok arunooba','a'))\n",
    "print(np.char.strip(['arunooba','admin','java'], 'a'))"
   ]
  },
  {
   "cell_type": "code",
   "execution_count": 11,
   "metadata": {},
   "outputs": [
    {
     "name": "stdout",
     "output_type": "stream",
     "text": [
      "r:u:n:o:o:b\n",
      "['r:u:n:o:o:b' 'g-o-o-g-l-e']\n"
     ]
    }
   ],
   "source": [
    "# join\n",
    "print(np.char.join(':', 'runoob'))\n",
    "print(np.char.join([':','-'],['runoob','google']))"
   ]
  },
  {
   "cell_type": "code",
   "execution_count": 12,
   "metadata": {},
   "outputs": [
    {
     "name": "stdout",
     "output_type": "stream",
     "text": [
      "i like runccb\n"
     ]
    }
   ],
   "source": [
    "# replace\n",
    "print(np.char.replace('i like runoob','oo','cc'))"
   ]
  },
  {
   "cell_type": "markdown",
   "metadata": {},
   "source": [
    "# 数学函数"
   ]
  },
  {
   "cell_type": "code",
   "execution_count": 14,
   "metadata": {},
   "outputs": [
    {
     "name": "stdout",
     "output_type": "stream",
     "text": [
      "[0.         0.5        0.70710678 0.8660254  1.        ]\n",
      "[1.00000000e+00 8.66025404e-01 7.07106781e-01 5.00000000e-01\n",
      " 6.12323400e-17]\n",
      "[0.00000000e+00 5.77350269e-01 1.00000000e+00 1.73205081e+00\n",
      " 1.63312394e+16]\n"
     ]
    }
   ],
   "source": [
    "import numpy as np\n",
    "\n",
    "a = np.array([0, 30, 45, 60, 90])\n",
    "print(np.sin(a*np.pi/180))\n",
    "print(np.cos(a*np.pi/180))\n",
    "print(np.tan(a*np.pi/180))"
   ]
  },
  {
   "cell_type": "code",
   "execution_count": 15,
   "metadata": {},
   "outputs": [
    {
     "name": "stdout",
     "output_type": "stream",
     "text": [
      "[0.         0.5        0.70710678 0.8660254  1.        ]\n",
      "[0.         0.52359878 0.78539816 1.04719755 1.57079633]\n",
      "角度制[ 0. 30. 45. 60. 90.]\n"
     ]
    }
   ],
   "source": [
    "import numpy as np\n",
    "a = np.array([0, 30, 45, 60, 90])\n",
    "sin = np.sin(a*np.pi/180)\n",
    "print(sin)\n",
    "inv = np.arcsin(sin)\n",
    "print(inv)\n",
    "print(f'角度制{np.degrees(inv)}')"
   ]
  },
  {
   "cell_type": "code",
   "execution_count": 19,
   "metadata": {},
   "outputs": [
    {
     "name": "stdout",
     "output_type": "stream",
     "text": [
      "[  1.   6. 123.   1.  26.  -1.  -2.]\n",
      "[  1.    5.6 123.    0.6  25.5  -1.1  -1.6]\n",
      "[  0.  10. 120.   0.  30.  -0.  -0.]\n",
      "向下取整[  1.   5. 123.   0.  25.  -2.  -2.]\n",
      "向上取整[  1.   6. 123.   1.  26.  -1.  -1.]\n"
     ]
    }
   ],
   "source": [
    "# 舍入函数\n",
    "# 四舍五入\n",
    "a = np.array([1.0, 5.55, 123, 0.567, 25.532,-1.11, -1.56])\n",
    "print(np.around(a))\n",
    "print(np.around(a, decimals=1))\n",
    "print(np.around(a, decimals=-1))\n",
    "print(f'向下取整{np.floor(a)}')\n",
    "print(f'向上取整{np.ceil(a)}')"
   ]
  },
  {
   "cell_type": "markdown",
   "metadata": {},
   "source": [
    "# 算术函数\n"
   ]
  },
  {
   "cell_type": "code",
   "execution_count": 23,
   "metadata": {},
   "outputs": [
    {
     "name": "stdout",
     "output_type": "stream",
     "text": [
      "[[0. 1. 2.]\n",
      " [3. 4. 5.]\n",
      " [6. 7. 8.]]\n",
      "[[10. 11. 12.]\n",
      " [13. 14. 15.]\n",
      " [16. 17. 18.]]\n",
      "[[ 0. 10. 20.]\n",
      " [30. 40. 50.]\n",
      " [60. 70. 80.]]\n",
      "[[0.  0.1 0.2]\n",
      " [0.3 0.4 0.5]\n",
      " [0.6 0.7 0.8]]\n",
      "[[0. 0. 0.]\n",
      " [0. 0. 0.]\n",
      " [0. 0. 0.]]\n"
     ]
    }
   ],
   "source": [
    "# 加减乘乘\n",
    "a = np.arange(9, dtype=np.float64).reshape(3,3)\n",
    "b = np.array([10, 10, 10])\n",
    "print(a)\n",
    "\n",
    "print(a+b)\n",
    "print(a*b)\n",
    "print(a/b)\n",
    "print(a//b)"
   ]
  },
  {
   "cell_type": "code",
   "execution_count": 24,
   "metadata": {},
   "outputs": [
    {
     "name": "stdout",
     "output_type": "stream",
     "text": [
      "[4.        0.7518797 1.        0.01     ]\n"
     ]
    }
   ],
   "source": [
    "# 倒数\n",
    "a = np.array([0.25, 1.33, 1, 100])\n",
    "print(np.reciprocal(a))"
   ]
  },
  {
   "cell_type": "markdown",
   "metadata": {},
   "source": [
    "# 统计函数"
   ]
  },
  {
   "cell_type": "code",
   "execution_count": 27,
   "metadata": {},
   "outputs": [
    {
     "name": "stdout",
     "output_type": "stream",
     "text": [
      "[[3 7 5]\n",
      " [8 4 3]\n",
      " [2 4 9]]\n",
      "[2 4 3]\n",
      "[3 3 2]\n",
      "2\n",
      "[8 7 9]\n",
      "[7 8 9]\n",
      "9\n",
      "7\n",
      "[6 3 6]\n",
      "[4 5 7]\n"
     ]
    }
   ],
   "source": [
    "a = np.array([[3,7,5], [8, 4, 3], [2, 4, 9]])\n",
    "print(a)\n",
    "print(np.amin(a, 0))\n",
    "print(np.amin(a, 1))\n",
    "print(np.amin(a))\n",
    "print(np.amax(a, 0))\n",
    "print(np.amax(a, 1))\n",
    "print(np.amax(a))\n",
    "# ptp 最大值-最小值\n",
    "print(np.ptp(a))\n",
    "print(np.ptp(a,axis=0))\n",
    "print(np.ptp(a, axis=1))\n"
   ]
  },
  {
   "cell_type": "code",
   "execution_count": 29,
   "metadata": {},
   "outputs": [
    {
     "name": "stdout",
     "output_type": "stream",
     "text": [
      "[[10  7  4]\n",
      " [ 3  2  1]]\n",
      "3.5\n",
      "[6.5 4.5 2.5]\n",
      "[7. 2.]\n"
     ]
    }
   ],
   "source": [
    "# 百分位数\n",
    "a = np.array([[10, 7, 4], [3, 2, 1]])\n",
    "print(a)\n",
    "\n",
    "print(np.percentile(a, 50)) # 50%分位数\n",
    "print(np.percentile(a,50,axis=0))\n",
    "print(np.percentile(a,50,axis=1))"
   ]
  },
  {
   "cell_type": "code",
   "execution_count": 30,
   "metadata": {},
   "outputs": [
    {
     "name": "stdout",
     "output_type": "stream",
     "text": [
      "2.5\n",
      "2.0\n"
     ]
    }
   ],
   "source": [
    "# average \n",
    "# 权重\n",
    "a = np.array([1, 2, 3, 4])\n",
    "print(np.average(a))\n",
    "wts = np.array([4, 3, 2, 1])\n",
    "print(np.average(a, weights=wts))"
   ]
  },
  {
   "cell_type": "code",
   "execution_count": 32,
   "metadata": {},
   "outputs": [
    {
     "name": "stdout",
     "output_type": "stream",
     "text": [
      "1.118033988749895\n",
      "1.25\n"
     ]
    }
   ],
   "source": [
    "# 标准差 方差\n",
    "print(np.std([1,2,3,4]))\n",
    "print(np.var([1,2,3,4]))"
   ]
  },
  {
   "cell_type": "markdown",
   "metadata": {},
   "source": [
    "# 排序 条件筛选函数"
   ]
  },
  {
   "cell_type": "code",
   "execution_count": 34,
   "metadata": {},
   "outputs": [
    {
     "name": "stdout",
     "output_type": "stream",
     "text": [
      "[[3 7]\n",
      " [9 1]]\n",
      "[[3 7]\n",
      " [1 9]]\n",
      "[[3 7]\n",
      " [1 9]]\n"
     ]
    }
   ],
   "source": [
    "a = np.array([[3,7],[9,1]])\n",
    "print(a)\n",
    "print(np.sort(a))\n",
    "print(np.sort(a,axis=1))"
   ]
  },
  {
   "cell_type": "code",
   "execution_count": 37,
   "metadata": {},
   "outputs": [
    {
     "name": "stdout",
     "output_type": "stream",
     "text": [
      "[(b'raju', 21) (b'anil', 25) (b'ravi', 17) (b'amar', 27)]\n",
      "[(b'amar', 27) (b'anil', 25) (b'raju', 21) (b'ravi', 17)]\n",
      "[(b'ravi', 17) (b'raju', 21) (b'anil', 25) (b'amar', 27)]\n"
     ]
    }
   ],
   "source": [
    "# sort中排序字段\n",
    "dt = np.dtype([('name', 'S10'),('age', int)])\n",
    "a = np.array([(\"raju\",21),(\"anil\",25),(\"ravi\",17),(\"amar\",27)],dtype=dt)\n",
    "print(a)\n",
    "print(np.sort(a,order='name'))\n",
    "print(np.sort(a,order='age'))"
   ]
  },
  {
   "cell_type": "code",
   "execution_count": 38,
   "metadata": {},
   "outputs": [
    {
     "name": "stdout",
     "output_type": "stream",
     "text": [
      "[3 1 2 4 0]\n",
      "[4 1 2 0 3]\n",
      "[0 1 2 3 4]\n"
     ]
    }
   ],
   "source": [
    "# argsort索引值\n",
    "x = np.array([3,1,2,4,0])\n",
    "print(x)\n",
    "y = np.argsort(x)\n",
    "print(y)\n",
    "print(x[y])"
   ]
  },
  {
   "cell_type": "code",
   "execution_count": 40,
   "metadata": {},
   "outputs": [
    {
     "name": "stdout",
     "output_type": "stream",
     "text": [
      "[3 1 0 2]\n",
      "使用索引后来获取排序后的数据['amar,f.y.', 'anil,s.y.', 'raju,f.y.', 'ravi,s.y.']\n"
     ]
    }
   ],
   "source": [
    "# lexsort\n",
    "# 多个序列排序\n",
    "nm = ['raju','anil','ravi','amar']\n",
    "dv = ('f.y.','s.y.','s.y.','f.y.')\n",
    "ind = np.lexsort((dv,nm))\n",
    "print(ind)\n",
    "print(f'使用索引后来获取排序后的数据{[nm[i] + \",\" + dv[i] for i in ind]}')"
   ]
  },
  {
   "cell_type": "code",
   "execution_count": 42,
   "metadata": {},
   "outputs": [
    {
     "name": "stdout",
     "output_type": "stream",
     "text": [
      "[[0. 1. 2.]\n",
      " [3. 4. 5.]\n",
      " [6. 7. 8.]]\n",
      "[4. 5. 6. 7. 8.]\n"
     ]
    }
   ],
   "source": [
    "# 指定元素的索引\n",
    "x = np.arange(9.).reshape(3,3)\n",
    "print(x)\n",
    "y = np.where(x>3)\n",
    "print(x[y])"
   ]
  },
  {
   "cell_type": "code",
   "execution_count": 43,
   "metadata": {},
   "outputs": [
    {
     "name": "stdout",
     "output_type": "stream",
     "text": [
      "[0 2 4 6 8]\n"
     ]
    }
   ],
   "source": [
    "# 抽取元素\n",
    "x = np.arange(9).reshape(3,3)\n",
    "con = np.mod(x,2) == 0\n",
    "print(np.extract(con,x))"
   ]
  }
 ],
 "metadata": {
  "kernelspec": {
   "display_name": "Python 3.9.16 ('d2l')",
   "language": "python",
   "name": "python3"
  },
  "language_info": {
   "codemirror_mode": {
    "name": "ipython",
    "version": 3
   },
   "file_extension": ".py",
   "mimetype": "text/x-python",
   "name": "python",
   "nbconvert_exporter": "python",
   "pygments_lexer": "ipython3",
   "version": "3.9.16"
  },
  "orig_nbformat": 4,
  "vscode": {
   "interpreter": {
    "hash": "b6811291ebc6a1101dad9e06911db63e2939aee7bbc2b0dc38a0c92b3ecb53df"
   }
  }
 },
 "nbformat": 4,
 "nbformat_minor": 2
}
