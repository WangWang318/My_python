{
 "cells": [
  {
   "cell_type": "markdown",
   "metadata": {},
   "source": [
    "# 迭代数组"
   ]
  },
  {
   "cell_type": "code",
   "execution_count": 2,
   "metadata": {},
   "outputs": [
    {
     "name": "stdout",
     "output_type": "stream",
     "text": [
      "[[0 1 2]\n",
      " [3 4 5]]\n",
      "0, 1, 2, 3, 4, 5, "
     ]
    }
   ],
   "source": [
    "import numpy as np\n",
    "a = np.arange(6).reshape(2,3)\n",
    "print(a)\n",
    "for x in np.nditer(a):\n",
    "    print(x, end=\", \")"
   ]
  },
  {
   "cell_type": "code",
   "execution_count": 3,
   "metadata": {},
   "outputs": [
    {
     "name": "stdout",
     "output_type": "stream",
     "text": [
      "[[0 1 2]\n",
      " [3 4 5]]\n",
      "0, 1, 2, 3, 4, 5, \n",
      "\n",
      "0, 3, 1, 4, 2, 5, "
     ]
    }
   ],
   "source": [
    "import numpy as np\n",
    "a = np.arange(6).reshape(2,3)\n",
    "print(a)\n",
    "for x in np.nditer(a.T):\n",
    "    print(x, end=\", \")\n",
    "print('\\n')\n",
    "for x in np.nditer(a.T.copy(order='C')):\n",
    "    print(x, end=\", \")"
   ]
  },
  {
   "cell_type": "code",
   "execution_count": 6,
   "metadata": {},
   "outputs": [
    {
     "name": "stdout",
     "output_type": "stream",
     "text": [
      "0,5,10,15,20,25,30,35,40,45,50,55,\n",
      "0,20,40,5,25,45,10,30,50,15,35,55,\n",
      "0,5,10,15,20,25,30,35,40,45,50,55,"
     ]
    }
   ],
   "source": [
    "# 控制遍历顺序\n",
    "a = np.arange(0,60, 5)\n",
    "a = a.reshape(3,4)\n",
    "b = a.copy(order='C')\n",
    "c = a.copy(order='F')\n",
    "for x in np.nditer(b):\n",
    "    print(x, end=\",\")\n",
    "print(\"\")\n",
    "for x in np.nditer(c):\n",
    "    print(x, end=\",\")\n",
    "print(\"\")\n",
    "for x in np.nditer(a, order='C'):\n",
    "    print(x,end=\",\")"
   ]
  },
  {
   "cell_type": "code",
   "execution_count": 13,
   "metadata": {},
   "outputs": [
    {
     "name": "stdout",
     "output_type": "stream",
     "text": [
      "[[ 0  5 10 15]\n",
      " [20 25 30 35]\n",
      " [40 45 50 55]]\n",
      "[[  0  10  20  30]\n",
      " [ 40  50  60  70]\n",
      " [ 80  90 100 110]]\n"
     ]
    }
   ],
   "source": [
    "# 修改数组中元素的值\n",
    "a = np.arange(0, 60, 5).reshape(3,4)\n",
    "print(a)\n",
    "for x in np.nditer(a, op_flags=['readwrite']):\n",
    "    # x[:] = x*2\n",
    "    x[...] = x*2 # x[...]会将迭代过程中的值赋值给原始数组中对应位置的元素，从而实现直接修改原始数组的效果。\n",
    "print(a)"
   ]
  },
  {
   "cell_type": "markdown",
   "metadata": {},
   "source": [
    "# Numpy数组操作"
   ]
  },
  {
   "cell_type": "markdown",
   "metadata": {},
   "source": []
  }
 ],
 "metadata": {
  "kernelspec": {
   "display_name": "Python 3.9.16 ('d2l')",
   "language": "python",
   "name": "python3"
  },
  "language_info": {
   "codemirror_mode": {
    "name": "ipython",
    "version": 3
   },
   "file_extension": ".py",
   "mimetype": "text/x-python",
   "name": "python",
   "nbconvert_exporter": "python",
   "pygments_lexer": "ipython3",
   "version": "3.9.16"
  },
  "orig_nbformat": 4,
  "vscode": {
   "interpreter": {
    "hash": "b6811291ebc6a1101dad9e06911db63e2939aee7bbc2b0dc38a0c92b3ecb53df"
   }
  }
 },
 "nbformat": 4,
 "nbformat_minor": 2
}
