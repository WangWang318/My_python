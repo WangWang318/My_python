{
 "cells": [
  {
   "cell_type": "markdown",
   "metadata": {},
   "source": [
    "# 迭代数组"
   ]
  },
  {
   "cell_type": "code",
   "execution_count": 2,
   "metadata": {},
   "outputs": [
    {
     "name": "stdout",
     "output_type": "stream",
     "text": [
      "[[0 1 2]\n",
      " [3 4 5]]\n",
      "0, 1, 2, 3, 4, 5, "
     ]
    }
   ],
   "source": [
    "import numpy as np\n",
    "a = np.arange(6).reshape(2,3)\n",
    "print(a)\n",
    "for x in np.nditer(a):\n",
    "    print(x, end=\", \")"
   ]
  },
  {
   "cell_type": "code",
   "execution_count": 3,
   "metadata": {},
   "outputs": [
    {
     "name": "stdout",
     "output_type": "stream",
     "text": [
      "[[0 1 2]\n",
      " [3 4 5]]\n",
      "0, 1, 2, 3, 4, 5, \n",
      "\n",
      "0, 3, 1, 4, 2, 5, "
     ]
    }
   ],
   "source": [
    "import numpy as np\n",
    "a = np.arange(6).reshape(2,3)\n",
    "print(a)\n",
    "for x in np.nditer(a.T):\n",
    "    print(x, end=\", \")\n",
    "print('\\n')\n",
    "for x in np.nditer(a.T.copy(order='C')):\n",
    "    print(x, end=\", \")"
   ]
  },
  {
   "cell_type": "code",
   "execution_count": 6,
   "metadata": {},
   "outputs": [
    {
     "name": "stdout",
     "output_type": "stream",
     "text": [
      "0,5,10,15,20,25,30,35,40,45,50,55,\n",
      "0,20,40,5,25,45,10,30,50,15,35,55,\n",
      "0,5,10,15,20,25,30,35,40,45,50,55,"
     ]
    }
   ],
   "source": [
    "# 控制遍历顺序\n",
    "a = np.arange(0,60, 5)\n",
    "a = a.reshape(3,4)\n",
    "b = a.copy(order='C')\n",
    "c = a.copy(order='F')\n",
    "for x in np.nditer(b):\n",
    "    print(x, end=\",\")\n",
    "print(\"\")\n",
    "for x in np.nditer(c):\n",
    "    print(x, end=\",\")\n",
    "print(\"\")\n",
    "for x in np.nditer(a, order='C'):\n",
    "    print(x,end=\",\")"
   ]
  },
  {
   "cell_type": "code",
   "execution_count": 13,
   "metadata": {},
   "outputs": [
    {
     "name": "stdout",
     "output_type": "stream",
     "text": [
      "[[ 0  5 10 15]\n",
      " [20 25 30 35]\n",
      " [40 45 50 55]]\n",
      "[[  0  10  20  30]\n",
      " [ 40  50  60  70]\n",
      " [ 80  90 100 110]]\n"
     ]
    }
   ],
   "source": [
    "# 修改数组中元素的值\n",
    "a = np.arange(0, 60, 5).reshape(3,4)\n",
    "print(a)\n",
    "for x in np.nditer(a, op_flags=['readwrite']):\n",
    "    # x[:] = x*2\n",
    "    x[...] = x*2 # x[...]会将迭代过程中的值赋值给原始数组中对应位置的元素，从而实现直接修改原始数组的效果。\n",
    "print(a)"
   ]
  },
  {
   "cell_type": "markdown",
   "metadata": {},
   "source": [
    "# Numpy数组操作"
   ]
  },
  {
   "cell_type": "code",
   "execution_count": 14,
   "metadata": {},
   "outputs": [
    {
     "name": "stdout",
     "output_type": "stream",
     "text": [
      "[0 1 2]\n",
      "[3 4 5]\n",
      "[6 7 8]\n",
      "0\n",
      "1\n",
      "2\n",
      "3\n",
      "4\n",
      "5\n",
      "6\n",
      "7\n",
      "8\n"
     ]
    }
   ],
   "source": [
    "import numpy as np\n",
    "\n",
    "a = np.arange(9).reshape(3,3)\n",
    "for row in a:\n",
    "    print(row)\n",
    "\n",
    "# 数组元素迭代器\n",
    "for element in a.flat:\n",
    "    print(element)"
   ]
  },
  {
   "cell_type": "code",
   "execution_count": 16,
   "metadata": {},
   "outputs": [
    {
     "name": "stdout",
     "output_type": "stream",
     "text": [
      "[[0 1 2 3]\n",
      " [4 5 6 7]]\n",
      "[0 1 2 3 4 5 6 7]\n",
      "[0 4 1 5 2 6 3 7]\n"
     ]
    }
   ],
   "source": [
    "# 拷贝\n",
    "a = np.arange(8).reshape(2,4)\n",
    "print(a)\n",
    "print(a.flatten())\n",
    "print(a.flatten(order='F'))"
   ]
  },
  {
   "cell_type": "code",
   "execution_count": 17,
   "metadata": {},
   "outputs": [
    {
     "name": "stdout",
     "output_type": "stream",
     "text": [
      "[[0 1 2 3]\n",
      " [4 5 6 7]]\n",
      "[0 1 2 3 4 5 6 7]\n",
      "[[-1  1  2  3]\n",
      " [ 4  5  6  7]]\n"
     ]
    }
   ],
   "source": [
    "# np.ravel()\n",
    "# view\n",
    "a = np.arange(8).reshape(2,4)\n",
    "b = a.ravel()\n",
    "print(a)\n",
    "print(b)\n",
    "b[0] = -1\n",
    "print(a)"
   ]
  },
  {
   "cell_type": "code",
   "execution_count": 26,
   "metadata": {},
   "outputs": [
    {
     "name": "stdout",
     "output_type": "stream",
     "text": [
      "[[[0 1]\n",
      "  [2 3]]\n",
      "\n",
      " [[4 5]\n",
      "  [6 7]]]\n",
      "(array([1], dtype=int64), array([1], dtype=int64), array([0], dtype=int64))\n",
      "[6]\n",
      "[6]\n",
      "6\n"
     ]
    }
   ],
   "source": [
    "a = np.arange(8).reshape(2,2,2)\n",
    "print(a)\n",
    "# print(np.where(a==6)) # 获取索引\n",
    "idx = np.where(a==6)\n",
    "print(idx)\n",
    "print(a[idx])\n",
    "print(a[idx[0],idx[1],idx[2]])\n",
    "print(np.squeeze(a[idx]))"
   ]
  },
  {
   "cell_type": "code",
   "execution_count": 29,
   "metadata": {},
   "outputs": [
    {
     "name": "stdout",
     "output_type": "stream",
     "text": [
      "[[[0 1]\n",
      "  [2 3]]\n",
      "\n",
      " [[4 5]\n",
      "  [6 7]]]\n",
      "(array([1], dtype=int64), array([0], dtype=int64), array([1], dtype=int64))\n",
      "[[[0 2]\n",
      "  [4 6]]\n",
      "\n",
      " [[1 3]\n",
      "  [5 7]]]\n"
     ]
    }
   ],
   "source": [
    "# 翻转数组\n",
    "# numpy.rollaxis\n",
    "print(a)\n",
    "print(np.where(a==5))\n",
    "b = np.rollaxis(a,2,0) # 将轴2移动到轴0\n",
    "print(b)"
   ]
  },
  {
   "cell_type": "code",
   "execution_count": 30,
   "metadata": {},
   "outputs": [
    {
     "name": "stdout",
     "output_type": "stream",
     "text": [
      "[[[0 1]\n",
      "  [2 3]]\n",
      "\n",
      " [[4 5]\n",
      "  [6 7]]]\n",
      "[[[0 4]\n",
      "  [2 6]]\n",
      "\n",
      " [[1 5]\n",
      "  [3 7]]]\n"
     ]
    }
   ],
   "source": [
    "# np.swapaxes\n",
    "a = np.arange(8).reshape(2,2,2)\n",
    "print(a)\n",
    "print(np.swapaxes(a,2,0))"
   ]
  },
  {
   "cell_type": "code",
   "execution_count": 39,
   "metadata": {},
   "outputs": [
    {
     "name": "stdout",
     "output_type": "stream",
     "text": [
      "X shape (3, 1), Y shape (3,)\n",
      "1 4\n",
      "1 10\n",
      "b.shape=(3, 3)\n",
      "<numpy.broadcast object at 0x00000230E4B67900>\n",
      "(3, 3)\n",
      "[[ 5. 11. 19.]\n",
      " [ 6. 12. 20.]\n",
      " [ 7. 13. 21.]]\n",
      "[[ 5 11 19]\n",
      " [ 6 12 20]\n",
      " [ 7 13 21]]\n"
     ]
    }
   ],
   "source": [
    "# 广播\n",
    "import numpy as np\n",
    "x = np.array([[1], [2], [3]])\n",
    "y = np.array([4, 10, 18])\n",
    "print(f'X shape {x.shape}, Y shape {y.shape}')\n",
    "\n",
    "b = np.broadcast(x, y) # 对y广播x\n",
    "# type(b)\n",
    "\n",
    "r,c = b.iters\n",
    "print(next(r), next(c))\n",
    "print(next(r), next(c))\n",
    "\n",
    "print(f'{b.shape=}')\n",
    "print(b)\n",
    "\n",
    "b = np.broadcast(x, y)\n",
    "c = np.empty(b.shape)\n",
    "print(c.shape)\n",
    "c.flat = [u + v for (u,v) in b]\n",
    "\n",
    "print(c)\n",
    "\n",
    "print(x+ y)"
   ]
  },
  {
   "cell_type": "code",
   "execution_count": 47,
   "metadata": {},
   "outputs": [
    {
     "name": "stdout",
     "output_type": "stream",
     "text": [
      "[[[ 0  2  4]\n",
      "  [ 6  8 10]]\n",
      "\n",
      " [[ 6  8 10]\n",
      "  [12 14 16]]]\n"
     ]
    }
   ],
   "source": [
    "# 广播\n",
    "a = np.arange(12).reshape(2,2,3)\n",
    "b = np.arange(6).reshape(2,3)\n",
    "print(a+b)"
   ]
  },
  {
   "cell_type": "code",
   "execution_count": 48,
   "metadata": {},
   "outputs": [
    {
     "name": "stdout",
     "output_type": "stream",
     "text": [
      "a = array([[0, 1, 2, 3]])\n",
      "[[0 1 2 3]\n",
      " [0 1 2 3]\n",
      " [0 1 2 3]\n",
      " [0 1 2 3]]\n"
     ]
    }
   ],
   "source": [
    "# np.broadcast_to\n",
    "a = np.arange(4).reshape(1,4)\n",
    "print(f'{a = }')\n",
    "\n",
    "print(np.broadcast_to(a, (4,4)))"
   ]
  },
  {
   "cell_type": "code",
   "execution_count": 51,
   "metadata": {},
   "outputs": [
    {
     "name": "stdout",
     "output_type": "stream",
     "text": [
      "x = array([[1, 2],\n",
      "       [3, 4]])\n",
      "y = array([[[1, 2],\n",
      "        [3, 4]]])\n",
      "x.shape = (2, 2), y.shape = (1, 2, 2)\n",
      "x.ndim = 2, y.ndim = 3\n"
     ]
    }
   ],
   "source": [
    "# np.expand_dims\n",
    "x = np.array(([1, 2], [3, 4]))\n",
    "print(f'{x = }')\n",
    "y = np.expand_dims(x, axis=0)\n",
    "print(f'{y = }')\n",
    "print(f'{x.shape = }, {y.shape = }')\n",
    "print(f'{x.ndim = }, {y.ndim = }')"
   ]
  },
  {
   "cell_type": "code",
   "execution_count": 54,
   "metadata": {},
   "outputs": [
    {
     "name": "stdout",
     "output_type": "stream",
     "text": [
      "[[[0 1 2]\n",
      "  [3 4 5]\n",
      "  [6 7 8]]]\n",
      "[[0 1 2]\n",
      " [3 4 5]\n",
      " [6 7 8]]\n"
     ]
    }
   ],
   "source": [
    "# numpy.squeeze\n",
    "# 删除数组形状中一维的条目\n",
    "x = np.arange(9).reshape(1,3,3)\n",
    "print(x)\n",
    "y = np.squeeze(x)\n",
    "print(y)\n",
    "# y = np.squeeze(x, axis=1)\n",
    "# print(y)"
   ]
  },
  {
   "cell_type": "code",
   "execution_count": 57,
   "metadata": {},
   "outputs": [
    {
     "name": "stdout",
     "output_type": "stream",
     "text": [
      "[[[1 2]\n",
      "  [3 4]]\n",
      "\n",
      " [[5 6]\n",
      "  [7 8]]]\n",
      "[[[1 2]\n",
      "  [3 4]\n",
      "  [5 6]\n",
      "  [7 8]]]\n"
     ]
    }
   ],
   "source": [
    "# 连接数组\n",
    "# concatenate\n",
    "a = np.array([[[1,2],[3,4]]])\n",
    "b = np.array([[[5,6],[7,8]]])\n",
    "print(np.concatenate((a,b)))\n",
    "print(np.concatenate((a,b), axis=1))"
   ]
  },
  {
   "cell_type": "code",
   "execution_count": 60,
   "metadata": {},
   "outputs": [
    {
     "name": "stdout",
     "output_type": "stream",
     "text": [
      "[[[1 2]\n",
      "  [3 4]]\n",
      "\n",
      " [[5 6]\n",
      "  [7 8]]]\n",
      "[[[1 2]\n",
      "  [5 6]]\n",
      "\n",
      " [[3 4]\n",
      "  [7 8]]]\n",
      "[[[1 5]\n",
      "  [2 6]]\n",
      "\n",
      " [[3 7]\n",
      "  [4 8]]]\n",
      "(2, 2, 2)\n"
     ]
    }
   ],
   "source": [
    "# np.stack\n",
    "# 用于沿新轴连接数组序列\n",
    "a = np.array([[1,2],[3,4]])\n",
    "b = np.array([[5,6],[7,8]])\n",
    "print(np.stack((a,b),0))\n",
    "print(np.stack((a,b),1))\n",
    "print(np.stack((a,b),2))\n",
    "print(np.stack((a,b),0).shape)"
   ]
  },
  {
   "cell_type": "code",
   "execution_count": 61,
   "metadata": {},
   "outputs": [
    {
     "name": "stdout",
     "output_type": "stream",
     "text": [
      "[[1 2 5 6]\n",
      " [3 4 7 8]]\n"
     ]
    }
   ],
   "source": [
    "# np.hstack\n",
    "# 水平堆叠生成数组\n",
    "a = np.array([[1,2],[3,4]])\n",
    "b = np.array([[5,6],[7,8]])\n",
    "print(np.hstack((a,b)))"
   ]
  },
  {
   "cell_type": "code",
   "execution_count": 62,
   "metadata": {},
   "outputs": [
    {
     "name": "stdout",
     "output_type": "stream",
     "text": [
      "[[1 2]\n",
      " [3 4]\n",
      " [5 6]\n",
      " [7 8]]\n"
     ]
    }
   ],
   "source": [
    "# np.vstack\n",
    "# 垂直堆叠来生成数组\n",
    "a = np.array([[1,2],[3,4]])\n",
    "b = np.array([[5,6],[7,8]])\n",
    "print(np.vstack((a,b)))"
   ]
  },
  {
   "cell_type": "code",
   "execution_count": 65,
   "metadata": {},
   "outputs": [
    {
     "name": "stdout",
     "output_type": "stream",
     "text": [
      "[array([0, 1, 2]), array([3, 4, 5]), array([6, 7, 8])]\n",
      "[array([0, 1, 2, 3]), array([4, 5, 6]), array([7, 8])]\n"
     ]
    }
   ],
   "source": [
    "# 分割数组\n",
    "# split\n",
    "# 默认水平切割\n",
    "a = np.arange(9)\n",
    "b = np.split(a,3) # 平均分成3个大小相等的数组\n",
    "print(b)\n",
    "\n",
    "print(np.split(a,(4,7)))"
   ]
  },
  {
   "cell_type": "code",
   "execution_count": 68,
   "metadata": {},
   "outputs": [
    {
     "name": "stdout",
     "output_type": "stream",
     "text": [
      "[[ 0  1  2  3]\n",
      " [ 4  5  6  7]\n",
      " [ 8  9 10 11]\n",
      " [12 13 14 15]]\n",
      "[array([[0, 1, 2, 3],\n",
      "       [4, 5, 6, 7]]), array([[ 8,  9, 10, 11],\n",
      "       [12, 13, 14, 15]])]\n",
      "[array([[ 0,  1],\n",
      "       [ 4,  5],\n",
      "       [ 8,  9],\n",
      "       [12, 13]]), array([[ 2,  3],\n",
      "       [ 6,  7],\n",
      "       [10, 11],\n",
      "       [14, 15]])]\n"
     ]
    }
   ],
   "source": [
    "a = np.arange(16).reshape(4,4)\n",
    "print(a)\n",
    "b = np.split(a, 2)\n",
    "print(b)\n",
    "\n",
    "b = np.split(a,2,axis=1)\n",
    "print(b)"
   ]
  },
  {
   "cell_type": "code",
   "execution_count": 71,
   "metadata": {},
   "outputs": [
    {
     "name": "stdout",
     "output_type": "stream",
     "text": [
      "[[ 0  1  2  3  4  5]\n",
      " [ 6  7  8  9 10 11]]\n",
      "[array([[0, 1],\n",
      "       [6, 7]]), array([[2, 3],\n",
      "       [8, 9]]), array([[ 4,  5],\n",
      "       [10, 11]])]\n",
      "[array([[0, 1, 2, 3, 4, 5]]), array([[ 6,  7,  8,  9, 10, 11]])]\n"
     ]
    }
   ],
   "source": [
    "# hsplit\n",
    "import numpy as np\n",
    "a = np.arange(12).reshape(2,6)\n",
    "print(a)\n",
    "\n",
    "print(np.hsplit(a, 3))\n",
    "print(np.vsplit(a, 2))"
   ]
  },
  {
   "cell_type": "code",
   "execution_count": 73,
   "metadata": {},
   "outputs": [
    {
     "name": "stdout",
     "output_type": "stream",
     "text": [
      "[[1 2 3]\n",
      " [4 5 6]]\n",
      "[1 2 3 4 5 6 7 8 9]\n",
      "[[1 2 3]\n",
      " [4 5 6]\n",
      " [7 8 9]]\n",
      "[[1 2 3 5 5 5]\n",
      " [4 5 6 7 8 9]]\n"
     ]
    }
   ],
   "source": [
    "# 元素的添加与删除\n",
    "# append\n",
    "a = np.array([[1,2,3], [4,5,6]])\n",
    "print(a)\n",
    "print(np.append(a, [7,8,9]))\n",
    "print(np.append(a, [[7,8,9]], axis=0))\n",
    "print(np.append(a, [[5,5,5],[7,8,9]], axis=1))"
   ]
  },
  {
   "cell_type": "code",
   "execution_count": 76,
   "metadata": {},
   "outputs": [
    {
     "name": "stdout",
     "output_type": "stream",
     "text": [
      "[ 1  2  3 11 12  4  5  6]\n",
      "[[ 1  2]\n",
      " [11 11]\n",
      " [ 3  4]\n",
      " [ 5  6]]\n",
      "[[ 1 11  2]\n",
      " [ 3 11  4]\n",
      " [ 5 11  6]]\n"
     ]
    }
   ],
   "source": [
    "# insert\n",
    "# axis 如未提供则输入数组会被展开\n",
    "a = np.array([[1, 2], [3, 4], [5, 6]])\n",
    "print(np.insert(a, 3, [11,12]))\n",
    "# 广播数组\n",
    "print(np.insert(a, 1,[11], axis=0))\n",
    "print(np.insert(a,1,11,axis=1))"
   ]
  },
  {
   "cell_type": "code",
   "execution_count": 80,
   "metadata": {},
   "outputs": [
    {
     "name": "stdout",
     "output_type": "stream",
     "text": [
      "[[ 0  1  2  3]\n",
      " [ 4  5  6  7]\n",
      " [ 8  9 10 11]]\n",
      "[ 0  1  2  3  4  6  7  8  9 10 11]\n",
      "[[ 0  2  3]\n",
      " [ 4  6  7]\n",
      " [ 8 10 11]]\n",
      "[ 2  4  6  8 10]\n",
      "[1 3 5 7 9]\n"
     ]
    }
   ],
   "source": [
    "# delete\n",
    "a = np.arange(12).reshape(3,4)\n",
    "print(a)\n",
    "print(np.delete(a,5))\n",
    "print(np.delete(a, 1, axis=1)) # 删除第二列\n",
    "a = np.array([1,2,3,4,5,6,7,8,9,10])\n",
    "print(np.delete(a, np.s_[::2]))\n",
    "print(np.delete(a, a[::2]))\n"
   ]
  },
  {
   "cell_type": "code",
   "execution_count": 82,
   "metadata": {},
   "outputs": [
    {
     "name": "stdout",
     "output_type": "stream",
     "text": [
      "[5 2 6 2 7 5 6 8 2 9]\n",
      "[2 5 6 7 8 9]\n",
      "[1 0 2 4 7 9]\n",
      "[1 0 2 0 3 1 2 4 0 5]\n"
     ]
    }
   ],
   "source": [
    "# numpy.unique\n",
    "a = np.array([5,2,6,2,7,5,6,8,2,9])\n",
    "print(a)\n",
    "u = np.unique(a)\n",
    "print(u)\n",
    "\n",
    "u, indices = np.unique(a, return_index=True)\n",
    "print(indices)\n",
    "\n",
    "u, indices = np.unique(a, return_inverse=True)\n",
    "print(indices)"
   ]
  },
  {
   "cell_type": "markdown",
   "metadata": {},
   "source": [
    "# 位运算"
   ]
  },
  {
   "cell_type": "code",
   "execution_count": 3,
   "metadata": {},
   "outputs": [
    {
     "name": "stdout",
     "output_type": "stream",
     "text": [
      "bin(a) = '0b1101', bin(b) = '0b10001'\n",
      "1\n",
      "29\n"
     ]
    }
   ],
   "source": [
    "import numpy as np\n",
    "a, b = 13, 17\n",
    "print(f'{bin(a) = }, {bin(b) = }')\n",
    "print(np.bitwise_and(13,17))\n",
    "print(np.bitwise_or(a, b))"
   ]
  },
  {
   "cell_type": "code",
   "execution_count": 5,
   "metadata": {},
   "outputs": [
    {
     "name": "stdout",
     "output_type": "stream",
     "text": [
      "[242]\n",
      "0b1101\n",
      "0b11110010\n"
     ]
    }
   ],
   "source": [
    "# invert\n",
    "print(np.invert(np.array([13], dtype=np.uint8)))\n",
    "print(bin(13))\n",
    "print(bin(242))"
   ]
  },
  {
   "cell_type": "code",
   "execution_count": 8,
   "metadata": {},
   "outputs": [
    {
     "name": "stdout",
     "output_type": "stream",
     "text": [
      "00001101\n",
      "40\n",
      "40\n"
     ]
    }
   ],
   "source": [
    "print(np.binary_repr(13, width=8))\n",
    "print(np.left_shift(10,2))\n",
    "print(10<<2)"
   ]
  },
  {
   "cell_type": "code",
   "execution_count": null,
   "metadata": {},
   "outputs": [],
   "source": []
  }
 ],
 "metadata": {
  "kernelspec": {
   "display_name": "Python 3.9.16 ('d2l')",
   "language": "python",
   "name": "python3"
  },
  "language_info": {
   "codemirror_mode": {
    "name": "ipython",
    "version": 3
   },
   "file_extension": ".py",
   "mimetype": "text/x-python",
   "name": "python",
   "nbconvert_exporter": "python",
   "pygments_lexer": "ipython3",
   "version": "3.9.16"
  },
  "orig_nbformat": 4,
  "vscode": {
   "interpreter": {
    "hash": "b6811291ebc6a1101dad9e06911db63e2939aee7bbc2b0dc38a0c92b3ecb53df"
   }
  }
 },
 "nbformat": 4,
 "nbformat_minor": 2
}
