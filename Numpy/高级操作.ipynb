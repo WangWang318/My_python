{
 "cells": [
  {
   "cell_type": "markdown",
   "metadata": {},
   "source": [
    "# 切片和索引"
   ]
  },
  {
   "cell_type": "code",
   "execution_count": 3,
   "metadata": {},
   "outputs": [
    {
     "name": "stdout",
     "output_type": "stream",
     "text": [
      "[2 4 6]\n",
      "[2 4 6]\n"
     ]
    }
   ],
   "source": [
    "import numpy as np\n",
    "a = np.arange(10)\n",
    "s = slice(2,8,2) # 从索引2开始到索引7停止， 间隔为2\n",
    "print(a[s])\n",
    "print(a[2:8:2])\n"
   ]
  },
  {
   "cell_type": "code",
   "execution_count": 4,
   "metadata": {},
   "outputs": [
    {
     "name": "stdout",
     "output_type": "stream",
     "text": [
      "[[3 4 5]\n",
      " [4 5 6]]\n"
     ]
    }
   ],
   "source": [
    "a = np.array([[1, 2, 3], [3, 4, 5], [4, 5, 6]])\n",
    "print(a[1:])"
   ]
  },
  {
   "cell_type": "code",
   "execution_count": 21,
   "metadata": {},
   "outputs": [
    {
     "name": "stdout",
     "output_type": "stream",
     "text": [
      "[2 4 5 8]\n",
      "[3 4 5]\n",
      "[[2 3]\n",
      " [4 5]\n",
      " [5 6]\n",
      " [8 9]]\n",
      "[[2 3]\n",
      " [4 5]\n",
      " [5 6]\n",
      " [8 9]]\n"
     ]
    }
   ],
   "source": [
    "# 使用... \n",
    "a = np.array([[1, 2, 3], [3, 4, 5], [4, 5, 6],[7, 8, 9]])\n",
    "print(a[..., 1])\n",
    "print(a[1,...])\n",
    "print(a[...,1:])\n",
    "print(a[:,1:])"
   ]
  },
  {
   "cell_type": "code",
   "execution_count": null,
   "metadata": {},
   "outputs": [],
   "source": [
    "a = np.arange(12).reshape((3, 4))\n",
    "print(a)"
   ]
  },
  {
   "cell_type": "markdown",
   "metadata": {},
   "source": [
    "# 高级索引"
   ]
  },
  {
   "cell_type": "code",
   "execution_count": 8,
   "metadata": {},
   "outputs": [
    {
     "name": "stdout",
     "output_type": "stream",
     "text": [
      "[1 4 5]\n"
     ]
    }
   ],
   "source": [
    "# 整数数组索引\n",
    "import numpy as np\n",
    "x = np.array([[1,2], [3,4],[5,6]])\n",
    "y = x[[0, 1, 2], [0,1,0]]\n",
    "print(y)"
   ]
  },
  {
   "cell_type": "code",
   "execution_count": 10,
   "metadata": {},
   "outputs": [
    {
     "name": "stdout",
     "output_type": "stream",
     "text": [
      "[5 8]\n",
      "[[5 6]\n",
      " [8 9]]\n",
      "[[2 3]\n",
      " [5 6]\n",
      " [8 9]]\n"
     ]
    }
   ],
   "source": [
    "a = np.array([[1,2,3],[4,5,6],[7,8,9]])\n",
    "b = a[1:3,1]\n",
    "c = a[1:3,[1,2]]\n",
    "d = a[...,1:]\n",
    "print(b)\n",
    "print(c)\n",
    "print(d)"
   ]
  },
  {
   "cell_type": "code",
   "execution_count": 12,
   "metadata": {},
   "outputs": [
    {
     "name": "stdout",
     "output_type": "stream",
     "text": [
      "[6 7 8 9]\n"
     ]
    }
   ],
   "source": [
    "# bool索引\n",
    "a = np.array([[1,2,3],[4,5,6],[7,8,9]])\n",
    "print(a[a>5])"
   ]
  },
  {
   "cell_type": "code",
   "execution_count": 18,
   "metadata": {},
   "outputs": [
    {
     "name": "stdout",
     "output_type": "stream",
     "text": [
      "[1. 2. 3. 4. 5.]\n",
      "[2. +6.j 3.5+5.j]\n"
     ]
    }
   ],
   "source": [
    "# ~取补运算来过滤NaN 和 复数\n",
    "a = np.array((np.nan, 1, 2, np.nan, 3, 4, 5))\n",
    "print(a[~np.isnan(a)])\n",
    "\n",
    "a = np.array([1, 2+6j, 5, 3.5 + 5j])\n",
    "print(a[np.iscomplex(a)])"
   ]
  },
  {
   "cell_type": "code",
   "execution_count": 25,
   "metadata": {},
   "outputs": [
    {
     "name": "stdout",
     "output_type": "stream",
     "text": [
      "[[ 0  1  2  3]\n",
      " [ 4  5  6  7]\n",
      " [ 8  9 10 11]\n",
      " [12 13 14 15]\n",
      " [16 17 18 19]\n",
      " [20 21 22 23]\n",
      " [24 25 26 27]\n",
      " [28 29 30 31]]\n",
      "[[16 17 18 19]\n",
      " [ 8  9 10 11]\n",
      " [ 4  5  6  7]\n",
      " [28 29 30 31]]\n",
      "[[16 17 18 19]\n",
      " [ 8  9 10 11]\n",
      " [ 4  5  6  7]\n",
      " [28 29 30 31]]\n",
      "[[16 17 18 19]\n",
      " [ 8  9 10 11]\n",
      " [ 4  5  6  7]\n",
      " [28 29 30 31]]\n",
      "True\n",
      "[[ 3  1]\n",
      " [ 7  5]\n",
      " [11  9]\n",
      " [15 13]\n",
      " [19 17]\n",
      " [23 21]\n",
      " [27 25]\n",
      " [31 29]]\n"
     ]
    }
   ],
   "source": [
    "# 花式索引\n",
    "# 二维数组\n",
    "x = np.arange(32).reshape((8,4))\n",
    "print(x)\n",
    "print(x[[4,2,1,7]]) # 读4,2,1,7对应的行\n",
    "print(x[[4,2,1,7],:])\n",
    "print(x[[4,2,1,7],...])\n",
    "print(np.array_equal(x[[4,2,1,7]], x[[4,2,1,7],...]))\n",
    "print(x[:,[3,1]])\n"
   ]
  },
  {
   "cell_type": "code",
   "execution_count": 28,
   "metadata": {},
   "outputs": [
    {
     "name": "stdout",
     "output_type": "stream",
     "text": [
      "[[ 0  1  2  3]\n",
      " [ 4  5  6  7]\n",
      " [ 8  9 10 11]\n",
      " [12 13 14 15]\n",
      " [16 17 18 19]\n",
      " [20 21 22 23]\n",
      " [24 25 26 27]\n",
      " [28 29 30 31]]\n",
      "[[ 4  5  6]\n",
      " [20 21 22]\n",
      " [28 29 30]\n",
      " [ 8  9 10]]\n"
     ]
    }
   ],
   "source": [
    "# 笛卡尔积\n",
    "import numpy as np\n",
    "x = np.arange(32).reshape((8,4))\n",
    "print(x)\n",
    "print(x[np.ix_([1,5,7,2],[0,1,2])])"
   ]
  },
  {
   "cell_type": "markdown",
   "metadata": {},
   "source": [
    "# 广播"
   ]
  },
  {
   "cell_type": "code",
   "execution_count": 29,
   "metadata": {},
   "outputs": [
    {
     "name": "stdout",
     "output_type": "stream",
     "text": [
      "[ 10  40  90 160]\n"
     ]
    }
   ],
   "source": [
    "# a.shape = b.shape\n",
    "a =np.array([1, 2, 3,4])\n",
    "b = np.array([10, 20, 30, 40])\n",
    "c = a * b\n",
    "print(c)"
   ]
  },
  {
   "cell_type": "code",
   "execution_count": 30,
   "metadata": {},
   "outputs": [
    {
     "name": "stdout",
     "output_type": "stream",
     "text": [
      "[[ 0  1  2]\n",
      " [10 11 12]\n",
      " [20 21 22]\n",
      " [30 31 32]]\n"
     ]
    }
   ],
   "source": [
    "# 形状不同\n",
    "a = np.array([[0,0,0], [10, 10, 10], [20, 20, 20], [30, 30, 30]])\n",
    "b = np.array([0, 1, 2])\n",
    "print(a + b)"
   ]
  },
  {
   "cell_type": "code",
   "execution_count": 31,
   "metadata": {},
   "outputs": [
    {
     "name": "stdout",
     "output_type": "stream",
     "text": [
      "[[ 0  1  2]\n",
      " [10 11 12]\n",
      " [20 21 22]\n",
      " [30 31 32]]\n"
     ]
    }
   ],
   "source": [
    "a = np.array([[0,0,0], [10, 10, 10], [20, 20, 20], [30, 30, 30]])\n",
    "b = np.array([0, 1, 2])\n",
    "bb = np.tile(b, (4,1))\n",
    "print(a + bb)"
   ]
  },
  {
   "cell_type": "code",
   "execution_count": 39,
   "metadata": {},
   "outputs": [
    {
     "name": "stdout",
     "output_type": "stream",
     "text": [
      "[[[ 0  1]\n",
      "  [ 2  3]]\n",
      "\n",
      " [[ 4  5]\n",
      "  [ 6  7]]\n",
      "\n",
      " [[ 8  9]\n",
      "  [10 11]]]\n",
      "[[[1 2]]]\n",
      "--------\n",
      "[[[ 1  3]\n",
      "  [ 3  5]]\n",
      "\n",
      " [[ 5  7]\n",
      "  [ 7  9]]\n",
      "\n",
      " [[ 9 11]\n",
      "  [11 13]]]\n"
     ]
    }
   ],
   "source": [
    "a = np.arange(12)\n",
    "b = a.reshape(3,2,2)\n",
    "c = np.array([[[1,2]]])\n",
    "print(b)\n",
    "print(c)\n",
    "print('--------')\n",
    "print(b+c)"
   ]
  },
  {
   "cell_type": "code",
   "execution_count": null,
   "metadata": {},
   "outputs": [],
   "source": []
  }
 ],
 "metadata": {
  "kernelspec": {
   "display_name": "Python 3.9.16 ('d2l')",
   "language": "python",
   "name": "python3"
  },
  "language_info": {
   "codemirror_mode": {
    "name": "ipython",
    "version": 3
   },
   "file_extension": ".py",
   "mimetype": "text/x-python",
   "name": "python",
   "nbconvert_exporter": "python",
   "pygments_lexer": "ipython3",
   "version": "3.9.16"
  },
  "orig_nbformat": 4,
  "vscode": {
   "interpreter": {
    "hash": "b6811291ebc6a1101dad9e06911db63e2939aee7bbc2b0dc38a0c92b3ecb53df"
   }
  }
 },
 "nbformat": 4,
 "nbformat_minor": 2
}
