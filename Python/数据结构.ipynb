{
 "cells": [
  {
   "cell_type": "markdown",
   "metadata": {},
   "source": [
    "# list[], dict{:}, tuple(), set{}"
   ]
  },
  {
   "cell_type": "code",
   "execution_count": 3,
   "metadata": {},
   "outputs": [
    {
     "name": "stdout",
     "output_type": "stream",
     "text": [
      "[1, 'file', ['hhh', 3.3]]\n"
     ]
    }
   ],
   "source": [
    "# list\n",
    "l = [1, \"file\", [\"hhh\", 3.3]]\n",
    "print(l)"
   ]
  },
  {
   "cell_type": "code",
   "execution_count": 4,
   "metadata": {},
   "outputs": [
    {
     "name": "stdout",
     "output_type": "stream",
     "text": [
      "[1, 'file', 1]\n"
     ]
    }
   ],
   "source": [
    "l[2] = 1\n",
    "print(l)"
   ]
  },
  {
   "cell_type": "code",
   "execution_count": 7,
   "metadata": {},
   "outputs": [
    {
     "name": "stdout",
     "output_type": "stream",
     "text": [
      "{'ID': 111, 'passport': 'my_name', 'books': [1, 2, 3]}\n",
      "[1, 2, 3]\n"
     ]
    }
   ],
   "source": [
    "# 字典\n",
    "files = {\"ID\": 111, \"passport\": \"my_name\", \"books\":[1,2,3]}\n",
    "print(files)\n",
    "print(files[\"books\"])"
   ]
  },
  {
   "cell_type": "code",
   "execution_count": 10,
   "metadata": {},
   "outputs": [],
   "source": [
    "# 元组\n",
    "t = (\"hello1\", \"hello2\", \"hello3\")\n",
    "# t[1] = \"hhh\" 元组不可更改 会报错"
   ]
  },
  {
   "cell_type": "code",
   "execution_count": 13,
   "metadata": {},
   "outputs": [
    {
     "name": "stdout",
     "output_type": "stream",
     "text": [
      "{'files2', 'files1'}\n",
      "{1, 'files2', 'files1'}\n",
      "{1, 'files2'}\n"
     ]
    }
   ],
   "source": [
    "# 集合\n",
    "my_set = set([\"files1\", \"files2\", \"files1\"])\n",
    "print(my_set)\n",
    "my_set.add(1)\n",
    "print(my_set)\n",
    "my_set.remove(\"files1\")\n",
    "print(my_set)"
   ]
  },
  {
   "cell_type": "code",
   "execution_count": 15,
   "metadata": {},
   "outputs": [
    {
     "name": "stdout",
     "output_type": "stream",
     "text": [
      "{'files2'}\n",
      "{1, 'files3', 'files2', 'files1'}\n",
      "{1}\n"
     ]
    }
   ],
   "source": [
    "# 集合的操作\n",
    "my_set2 = {\"files1\", \"files2\", \"files3\"}\n",
    "print(my_set.intersection(my_set2))\n",
    "print(my_set.union(my_set2))\n",
    "print(my_set.difference(my_set2))"
   ]
  },
  {
   "cell_type": "markdown",
   "metadata": {},
   "source": [
    "## 在循环中的应用"
   ]
  },
  {
   "cell_type": "code",
   "execution_count": 16,
   "metadata": {},
   "outputs": [
    {
     "name": "stdout",
     "output_type": "stream",
     "text": [
      "key:  ID , value:  111\n",
      "key:  passport , value:  my passport\n",
      "key:  books , value:  [1, 2, 3]\n"
     ]
    }
   ],
   "source": [
    "files = {\"ID\": 111, \"passport\": \"my passport\", \"books\": [1,2,3]}\n",
    "for key, value in files.items():\n",
    "    print(\"key: \", key, \", value: \", value)"
   ]
  },
  {
   "cell_type": "markdown",
   "metadata": {},
   "source": [
    "## 自带功能\n",
    "列表和字典"
   ]
  },
  {
   "cell_type": "code",
   "execution_count": 18,
   "metadata": {},
   "outputs": [
    {
     "name": "stdout",
     "output_type": "stream",
     "text": [
      "['f0.txt', 'f1.txt', 'f2.txt', 'f3.txt', 'f4.txt']\n",
      "pop  f4.txt\n",
      "pop  f3.txt\n",
      "pop  f2.txt\n",
      "pop  f1.txt\n",
      "pop  f0.txt\n",
      "[]\n"
     ]
    }
   ],
   "source": [
    "# list\n",
    "files = []\n",
    "for i in range(5):\n",
    "    files.append(\"f\" + str(i) + \".txt\") # 添加\n",
    "\n",
    "print(files)\n",
    "l = len(files)\n",
    "for i in range(l):\n",
    "    print(\"pop \", files.pop()) # 从最后一个开始pop\n",
    "print(files)"
   ]
  },
  {
   "cell_type": "code",
   "execution_count": 26,
   "metadata": {},
   "outputs": [
    {
     "name": "stdout",
     "output_type": "stream",
     "text": [
      "extend ['f1.txt', 'f2.txt', 'f3.txt', 'f4.txt']\n",
      "['f1.txt', 'files0', 'f2.txt', 'f3.txt', 'f4.txt']\n",
      "['f1.txt', 'f2.txt', 'f3.txt', 'f4.txt']\n",
      "['f1.txt', 'f2.txt', 'f4.txt']\n"
     ]
    }
   ],
   "source": [
    "# list\n",
    "files = [\"f1.txt\", \"f2.txt\"]\n",
    "\n",
    "# 扩充入另一个列表\n",
    "files.extend([\"f3.txt\", \"f4.txt\"])\n",
    "print(\"extend\", files)\n",
    "\n",
    "# 按位置添加\n",
    "files.insert(1, \"files0\")\n",
    "print(files)\n",
    "\n",
    "# 移除某项索引\n",
    "del files[1]\n",
    "print(files)\n",
    "\n",
    "# 移除某值\n",
    "files.remove(\"f3.txt\")\n",
    "print(files)"
   ]
  },
  {
   "cell_type": "code",
   "execution_count": 27,
   "metadata": {},
   "outputs": [
    {
     "name": "stdout",
     "output_type": "stream",
     "text": [
      "files[\"ID\"]: 111\n",
      "files.get(\"ID\"): 不存在这个 ID\n",
      "update: {'ID': 111, 'passport': 'my passport', 'books': [1, 2, 3], 'files': ['1', '2']}\n",
      "popped: 111\n",
      "remain: {'passport': 'my passport', 'books': [1, 2, 3], 'files': ['1', '2']}\n"
     ]
    }
   ],
   "source": [
    "# dict\n",
    "files = {\"ID\": 111, \"passport\": \"my passport\", \"books\": [1,2,3]}\n",
    "\n",
    "# 按key拿取，并在拿取失败的时候给一个设定好的默认值\n",
    "print('files[\"ID\"]:', files[\"ID\"])\n",
    "print('files.get(\"ID\"):', files.get(\"unknown ID\", \"不存在这个 ID\"))\n",
    "\n",
    "# 将另一个字典补充到当前字典\n",
    "files.update({\"files\": [\"1\", \"2\"]})\n",
    "print('update:', files)\n",
    "\n",
    "# pop 调一个item，和列表的 pop 类似\n",
    "popped = files.pop(\"ID\")\n",
    "print('popped:', popped)\n",
    "print(\"remain:\", files)"
   ]
  }
 ],
 "metadata": {
  "kernelspec": {
   "display_name": "Python 3.9.16 ('d2l')",
   "language": "python",
   "name": "python3"
  },
  "language_info": {
   "codemirror_mode": {
    "name": "ipython",
    "version": 3
   },
   "file_extension": ".py",
   "mimetype": "text/x-python",
   "name": "python",
   "nbconvert_exporter": "python",
   "pygments_lexer": "ipython3",
   "version": "3.9.16"
  },
  "orig_nbformat": 4,
  "vscode": {
   "interpreter": {
    "hash": "b6811291ebc6a1101dad9e06911db63e2939aee7bbc2b0dc38a0c92b3ecb53df"
   }
  }
 },
 "nbformat": 4,
 "nbformat_minor": 2
}
