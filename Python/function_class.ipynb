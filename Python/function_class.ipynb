{
 "cells": [
  {
   "cell_type": "markdown",
   "metadata": {},
   "source": [
    "# function"
   ]
  },
  {
   "cell_type": "code",
   "execution_count": 1,
   "metadata": {},
   "outputs": [
    {
     "name": "stdout",
     "output_type": "stream",
     "text": [
      "local filename: f2.txt\n",
      "global filename: f1.txt\n"
     ]
    }
   ],
   "source": [
    "filename = \"f1.txt\"\n",
    "def modify_name():\n",
    "    # global filename  # 提出申请\n",
    "    filename = \"f2.txt\"\n",
    "    print(\"local filename:\", filename)\n",
    "modify_name()\n",
    "print(\"global filename:\", filename)  "
   ]
  },
  {
   "cell_type": "code",
   "execution_count": 2,
   "metadata": {},
   "outputs": [
    {
     "name": "stdout",
     "output_type": "stream",
     "text": [
      "local filename: f2.txt\n",
      "global filename: f2.txt\n"
     ]
    }
   ],
   "source": [
    "filename = \"f1.txt\"\n",
    "def modify_name():\n",
    "    global filename  # 提出申请\n",
    "    filename = \"f2.txt\"\n",
    "    print(\"local filename:\", filename)\n",
    "modify_name()\n",
    "print(\"global filename:\", filename)  "
   ]
  },
  {
   "cell_type": "markdown",
   "metadata": {},
   "source": [
    "# Class"
   ]
  },
  {
   "cell_type": "code",
   "execution_count": 3,
   "metadata": {},
   "outputs": [
    {
     "name": "stdout",
     "output_type": "stream",
     "text": [
      "f1\n",
      "today\n"
     ]
    }
   ],
   "source": [
    "class File:\n",
    "    def __init__(self):\n",
    "        self.name = \"f1\"\n",
    "        self.create_time = \"today\"\n",
    "\n",
    "my_file = File()\n",
    "print(my_file.name)\n",
    "print(my_file.create_time)\n"
   ]
  },
  {
   "cell_type": "code",
   "execution_count": 4,
   "metadata": {},
   "outputs": [
    {
     "name": "stdout",
     "output_type": "stream",
     "text": [
      "new_name\n"
     ]
    }
   ],
   "source": [
    "class File:\n",
    "    def __init__(self, name, create_time=\"today\"):\n",
    "        self.name = name\n",
    "        self.create_time = create_time\n",
    "    \n",
    "    def change_name(self, new_name):\n",
    "        self.name = new_name\n",
    "\n",
    "my_file = File(\"my_file\")\n",
    "# 调用实例中，类的功能\n",
    "my_file.change_name(\"new_name\") \n",
    "print(my_file.name)"
   ]
  },
  {
   "cell_type": "markdown",
   "metadata": {},
   "source": [
    "## 继承"
   ]
  },
  {
   "cell_type": "code",
   "execution_count": 5,
   "metadata": {},
   "outputs": [],
   "source": [
    "class File:\n",
    "    def __init__(self, name, create_time=\"today\"):\n",
    "        self.name = name\n",
    "        self.create_time = create_time\n",
    "    \n",
    "    def get_info(self):\n",
    "        return self.name + \"is created at \" + self.create_time"
   ]
  },
  {
   "cell_type": "code",
   "execution_count": 8,
   "metadata": {},
   "outputs": [],
   "source": [
    "class Video(File):\n",
    "    def __init__(self, name, window_size=(1080, 720)):\n",
    "        # 将共用属性的设置导入File\n",
    "        super().__init__(name=name, create_time=\"today\")\n",
    "        self.window_size = window_size\n",
    "\n",
    "class Text(File):\n",
    "    def __init__(self, name, language=\"zh-cn\"):\n",
    "        # 将共用属性的设置导入File父类\n",
    "        super().__init__(name=name, create_time=\"today\")\n",
    "        self.language = language\n",
    "\n",
    "    def get_more_info(self):\n",
    "        return self.get_info() + \", using language of \" + self.language"
   ]
  },
  {
   "cell_type": "code",
   "execution_count": 9,
   "metadata": {},
   "outputs": [
    {
     "name": "stdout",
     "output_type": "stream",
     "text": [
      "my_videois created attoday\n",
      "today\n",
      "zh-cn\n",
      "my_textis created attoday, using language of zh-cn\n"
     ]
    }
   ],
   "source": [
    "\n",
    "v = Video(\"my_video\")\n",
    "t = Text(\"my_text\")\n",
    "print(v.get_info())     # 调用父类的功能\n",
    "print(t.create_time)    # 调用父类的属性\n",
    "print(t.language)       # 调用自己的属性\n",
    "print(t.get_more_info()) # 调用自己加工父类的功能"
   ]
  }
 ],
 "metadata": {
  "kernelspec": {
   "display_name": "Python 3.9.16 ('d2l')",
   "language": "python",
   "name": "python3"
  },
  "language_info": {
   "codemirror_mode": {
    "name": "ipython",
    "version": 3
   },
   "file_extension": ".py",
   "mimetype": "text/x-python",
   "name": "python",
   "nbconvert_exporter": "python",
   "pygments_lexer": "ipython3",
   "version": "3.9.16"
  },
  "orig_nbformat": 4,
  "vscode": {
   "interpreter": {
    "hash": "b6811291ebc6a1101dad9e06911db63e2939aee7bbc2b0dc38a0c92b3ecb53df"
   }
  }
 },
 "nbformat": 4,
 "nbformat_minor": 2
}
