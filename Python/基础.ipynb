{
 "cells": [
  {
   "cell_type": "code",
   "execution_count": 1,
   "metadata": {},
   "outputs": [
    {
     "name": "stdout",
     "output_type": "stream",
     "text": [
      "<class 'int'> <class 'float'> <class 'bool'> <class 'complex'>\n"
     ]
    }
   ],
   "source": [
    "# 基本数据类型\n",
    "a, b, c, d = 20, 5.5, True, 4+3j\n",
    "print(type(a), type(b), type(c), type(d))"
   ]
  },
  {
   "cell_type": "code",
   "execution_count": 2,
   "metadata": {},
   "outputs": [
    {
     "data": {
      "text/plain": [
       "True"
      ]
     },
     "execution_count": 2,
     "metadata": {},
     "output_type": "execute_result"
    }
   ],
   "source": [
    "isinstance(a, int)\n"
   ]
  },
  {
   "cell_type": "code",
   "execution_count": 3,
   "metadata": {},
   "outputs": [
    {
     "data": {
      "text/plain": [
       "(True, True, False, True)"
      ]
     },
     "execution_count": 3,
     "metadata": {},
     "output_type": "execute_result"
    }
   ],
   "source": [
    "# type()不会认为子类是一种父类类型\n",
    "# isinstance()会认为子类是一种父类型\n",
    "class A:\n",
    "    pass\n",
    "class B(A):\n",
    "    pass\n",
    "isinstance(A(), A), isinstance(B(), A), isinstance(A(), B), isinstance(B(), A)"
   ]
  },
  {
   "cell_type": "code",
   "execution_count": 6,
   "metadata": {},
   "outputs": [
    {
     "name": "stdout",
     "output_type": "stream",
     "text": [
      "Runoo\n",
      "Runoob\n",
      "unoob\n",
      "RunoobRunoob\n"
     ]
    }
   ],
   "source": [
    "# String\n",
    "str = \"Runoob\"\n",
    "\n",
    "print(str[0:-1]) # 输出第一个到倒数第二个字符\n",
    "print(str[0:])\n",
    "print(str[1:])\n",
    "print(str * 2)"
   ]
  },
  {
   "cell_type": "code",
   "execution_count": 7,
   "metadata": {},
   "outputs": [
    {
     "name": "stdout",
     "output_type": "stream",
     "text": [
      "ru\n",
      "oob\n",
      "ru\\noob\n"
     ]
    }
   ],
   "source": [
    "print(\"ru\\noob\")\n",
    "print(r'ru\\noob')"
   ]
  },
  {
   "cell_type": "code",
   "execution_count": null,
   "metadata": {},
   "outputs": [],
   "source": [
    "# 字符串不能改变元素"
   ]
  }
 ],
 "metadata": {
  "kernelspec": {
   "display_name": "Python 3.9.16 ('d2l')",
   "language": "python",
   "name": "python3"
  },
  "language_info": {
   "codemirror_mode": {
    "name": "ipython",
    "version": 3
   },
   "file_extension": ".py",
   "mimetype": "text/x-python",
   "name": "python",
   "nbconvert_exporter": "python",
   "pygments_lexer": "ipython3",
   "version": "3.9.16"
  },
  "orig_nbformat": 4,
  "vscode": {
   "interpreter": {
    "hash": "b6811291ebc6a1101dad9e06911db63e2939aee7bbc2b0dc38a0c92b3ecb53df"
   }
  }
 },
 "nbformat": 4,
 "nbformat_minor": 2
}
