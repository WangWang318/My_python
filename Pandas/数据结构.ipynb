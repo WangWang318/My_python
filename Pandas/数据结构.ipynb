{
 "cells": [
  {
   "cell_type": "markdown",
   "metadata": {},
   "source": [
    "# 数据结构\n",
    "Series 一维数据\n",
    "DataFrame 二维数据"
   ]
  },
  {
   "cell_type": "code",
   "execution_count": 1,
   "metadata": {},
   "outputs": [
    {
     "data": {
      "text/plain": [
       "'1.2.4'"
      ]
     },
     "execution_count": 1,
     "metadata": {},
     "output_type": "execute_result"
    }
   ],
   "source": [
    "import pandas\n",
    "pandas.__version__"
   ]
  },
  {
   "cell_type": "code",
   "execution_count": 3,
   "metadata": {},
   "outputs": [
    {
     "name": "stdout",
     "output_type": "stream",
     "text": [
      "0    1\n",
      "1    2\n",
      "2    3\n",
      "dtype: int64\n",
      "2\n"
     ]
    }
   ],
   "source": [
    "import pandas as pd\n",
    "a = [1, 2, 3]\n",
    "myvar = pd.Series(a)\n",
    "print(myvar)\n",
    "print(myvar[1])"
   ]
  },
  {
   "cell_type": "code",
   "execution_count": 5,
   "metadata": {},
   "outputs": [
    {
     "name": "stdout",
     "output_type": "stream",
     "text": [
      "x    google\n",
      "y    runoob\n",
      "z      wiki\n",
      "dtype: object\n",
      "google\n"
     ]
    }
   ],
   "source": [
    "# 指定索引值\n",
    "a = [\"google\", \"runoob\",\"wiki\"]\n",
    "myvar = pd.Series(a, index=[\"x\",\"y\",\"z\"])\n",
    "print(myvar)\n",
    "print(myvar[\"x\"])"
   ]
  },
  {
   "cell_type": "code",
   "execution_count": 8,
   "metadata": {},
   "outputs": [
    {
     "name": "stdout",
     "output_type": "stream",
     "text": [
      "1    Google\n",
      "2    Runoob\n",
      "3      Wiki\n",
      "dtype: object\n",
      "\n",
      "1    Google\n",
      "2    Runoob\n",
      "dtype: object\n"
     ]
    }
   ],
   "source": [
    "# 使用key/value,字典来创建\n",
    "sites = {1:\"Google\", 2:\"Runoob\", 3:\"Wiki\"}\n",
    "myvar = pd.Series(sites)\n",
    "print(myvar)\n",
    "print(\"\")\n",
    "sites = {1:\"Google\", 2:\"Runoob\", 3:\"Wiki\"}\n",
    "myvar = pd.Series(sites, index=[1, 2])\n",
    "print(myvar)"
   ]
  },
  {
   "cell_type": "code",
   "execution_count": 9,
   "metadata": {},
   "outputs": [
    {
     "name": "stdout",
     "output_type": "stream",
     "text": [
      "1    Google\n",
      "2    Runoob\n",
      "Name: Runoob-series-test, dtype: object\n"
     ]
    }
   ],
   "source": [
    "# 设置Series名称参数\n",
    "sites = {1:\"Google\", 2:\"Runoob\", 3:\"Wiki\"}\n",
    "myvar = pd.Series(sites, index=[1, 2], name=\"Runoob-series-test\")\n",
    "print(myvar)"
   ]
  },
  {
   "cell_type": "code",
   "execution_count": 11,
   "metadata": {},
   "outputs": [
    {
     "name": "stdout",
     "output_type": "stream",
     "text": [
      "     Site   Age\n",
      "0  Google  10.0\n",
      "1   Ruoob  12.0\n",
      "2    Wiki  13.0\n"
     ]
    }
   ],
   "source": [
    "# DataFrame\n",
    "import pandas as pd\n",
    "data = [['Google', 10],['Ruoob', 12],['Wiki', 13]]\n",
    "df = pd.DataFrame(data, columns=['Site', 'Age'],dtype=float)\n",
    "print(df)"
   ]
  },
  {
   "cell_type": "code",
   "execution_count": 12,
   "metadata": {},
   "outputs": [
    {
     "name": "stdout",
     "output_type": "stream",
     "text": [
      "     Site  Age\n",
      "0  Google   10\n",
      "1  Runoob   12\n",
      "2    Wiki   13\n"
     ]
    }
   ],
   "source": [
    "data = {'Site':['Google', 'Runoob', 'Wiki'], 'Age':[10, 12, 13]}\n",
    "df = pd.DataFrame(data)\n",
    "print(df)"
   ]
  },
  {
   "cell_type": "code",
   "execution_count": 13,
   "metadata": {},
   "outputs": [
    {
     "name": "stdout",
     "output_type": "stream",
     "text": [
      "   a   b     c\n",
      "0  1   2   NaN\n",
      "1  5  10  20.0\n"
     ]
    }
   ],
   "source": [
    "# 字典\n",
    "data = [{'a': 1, 'b': 2}, {'a': 5, 'b': 10, 'c': 20}]\n",
    "df = pd.DataFrame(data)\n",
    "print(df)"
   ]
  },
  {
   "cell_type": "code",
   "execution_count": 18,
   "metadata": {},
   "outputs": [
    {
     "name": "stdout",
     "output_type": "stream",
     "text": [
      "   calories  duration\n",
      "0       320        50\n",
      "1       380        40\n",
      "2       390        45\n",
      "calories    320\n",
      "duration     50\n",
      "Name: 0, dtype: int64\n",
      "calories    380\n",
      "duration     40\n",
      "Name: 1, dtype: int64\n",
      "\n",
      "   calories  duration\n",
      "0       320        50\n",
      "1       380        40\n"
     ]
    }
   ],
   "source": [
    "# loc\n",
    "data = {\n",
    "    \"calories\":[320, 380, 390],\n",
    "    \"duration\":[50,40,45]\n",
    "}\n",
    "df = pd.DataFrame(data)\n",
    "print(df)\n",
    "print(df.loc[0])\n",
    "print(df.loc[1])\n",
    "print(\"\")\n",
    "print(df.loc[[0,1]])"
   ]
  },
  {
   "cell_type": "code",
   "execution_count": 19,
   "metadata": {},
   "outputs": [
    {
     "name": "stdout",
     "output_type": "stream",
     "text": [
      "      calories  duration\n",
      "day1       320        50\n",
      "day2       380        40\n",
      "day3       390        45\n",
      "calories    380\n",
      "duration     40\n",
      "Name: day2, dtype: int64\n"
     ]
    }
   ],
   "source": [
    "# 指定索引值\n",
    "data = {\n",
    "    \"calories\":[320, 380, 390],\n",
    "    \"duration\":[50,40,45]\n",
    "}\n",
    "df = pd.DataFrame(data, index = [\"day1\", \"day2\", \"day3\"])\n",
    "\n",
    "print(df)\n",
    "print(df.loc[\"day2\"])"
   ]
  },
  {
   "cell_type": "code",
   "execution_count": 1,
   "metadata": {},
   "outputs": [
    {
     "name": "stdout",
     "output_type": "stream",
     "text": [
      "86.72222222222223\n"
     ]
    }
   ],
   "source": [
    "import numpy as np\n",
    "a = [89, 94, 90, 92, 92, 82, 87, 79]\n",
    "b = [1.5, 2, 2, 2, 2, 4, 1, 3.5]\n",
    "print(np.average(a,weights=b))"
   ]
  },
  {
   "cell_type": "code",
   "execution_count": null,
   "metadata": {},
   "outputs": [],
   "source": []
  }
 ],
 "metadata": {
  "kernelspec": {
   "display_name": "Python 3.9.16 ('d2l')",
   "language": "python",
   "name": "python3"
  },
  "language_info": {
   "codemirror_mode": {
    "name": "ipython",
    "version": 3
   },
   "file_extension": ".py",
   "mimetype": "text/x-python",
   "name": "python",
   "nbconvert_exporter": "python",
   "pygments_lexer": "ipython3",
   "version": "3.9.16"
  },
  "orig_nbformat": 4,
  "vscode": {
   "interpreter": {
    "hash": "b6811291ebc6a1101dad9e06911db63e2939aee7bbc2b0dc38a0c92b3ecb53df"
   }
  }
 },
 "nbformat": 4,
 "nbformat_minor": 2
}
